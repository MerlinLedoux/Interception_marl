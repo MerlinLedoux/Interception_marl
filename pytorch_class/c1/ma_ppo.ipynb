{
 "cells": [
  {
   "cell_type": "markdown",
   "metadata": {},
   "source": [
    "## Notebook utilisation de torch pour du MARL"
   ]
  },
  {
   "cell_type": "markdown",
   "metadata": {},
   "source": [
    "Import de la bibliotheque torchrl et de l'ensemble des pakage nécessaire a un systeme multi agent qui tourne sur GPU"
   ]
  },
  {
   "cell_type": "code",
   "execution_count": 1,
   "metadata": {},
   "outputs": [
    {
     "name": "stderr",
     "output_type": "stream",
     "text": [
      "c:\\Users\\FX643778\\AppData\\Local\\anaconda3\\envs\\pythorch_class\\lib\\site-packages\\torchrl\\data\\replay_buffers\\samplers.py:36: UserWarning: Failed to import torchrl C++ binaries. Some modules (eg, prioritized replay buffers) may not work with your installation. This is likely due to a discrepancy between your package version and the PyTorch version. Make sure both are compatible. Usually, torchrl majors follow the pytorch majors within a few days around the release. For instance, TorchRL 0.5 requires PyTorch 2.4.0, and TorchRL 0.6 requires PyTorch 2.5.0.\n",
      "  warnings.warn(EXTENSION_WARNING)\n"
     ]
    }
   ],
   "source": [
    "import torch\n",
    "\n",
    "# Tensordict modules\n",
    "from tensordict.nn import set_composite_lp_aggregate, TensorDictModule\n",
    "from tensordict.nn.distributions import NormalParamExtractor\n",
    "from torch import multiprocessing\n",
    "\n",
    "# Data collection\n",
    "from torchrl.collectors import SyncDataCollector\n",
    "from torchrl.data.replay_buffers import ReplayBuffer\n",
    "from torchrl.data.replay_buffers.samplers import SamplerWithoutReplacement\n",
    "from torchrl.data.replay_buffers.storages import LazyTensorStorage\n",
    "\n",
    "# Env\n",
    "from torchrl.envs import RewardSum, TransformedEnv\n",
    "from torchrl.envs.libs.vmas import VmasEnv\n",
    "from torchrl.envs.utils import check_env_specs\n",
    "\n",
    "# Multi-agent network\n",
    "from torchrl.modules import MultiAgentMLP, ProbabilisticActor, TanhNormal\n",
    "\n",
    "# Loss\n",
    "from torchrl.objectives import ClipPPOLoss, ValueEstimators\n",
    "\n",
    "# Utils\n",
    "torch.manual_seed(0)\n",
    "from matplotlib import pyplot as plt\n",
    "from tqdm import tqdm"
   ]
  },
  {
   "cell_type": "markdown",
   "metadata": {},
   "source": [
    "Selection des hyperparametre pour l'entrainement on commence par definie avec quoi sera entrainer le modele (cpu ou gpu) en fonction de ce qui est disponible sue la machine si le gpu est diponible on va préferer l'utilise car ca permet de grandement accelerer l'apprentisage. Ensuite on a l'echantilonage le nombre d'action par bath le nombre d'iteration. Les hyperparamétre general de l'entrainement et ce spécifique a la methode PPO utilisé."
   ]
  },
  {
   "cell_type": "code",
   "execution_count": 2,
   "metadata": {},
   "outputs": [
    {
     "name": "stdout",
     "output_type": "stream",
     "text": [
      "cpu\n"
     ]
    }
   ],
   "source": [
    "is_fork = multiprocessing.get_start_method() == \"fork\"\n",
    "device = (\n",
    "    torch.device(0)\n",
    "    if torch.cuda.is_available() and not is_fork\n",
    "    else torch.device(\"cpu\")\n",
    ")\n",
    "print(device)\n",
    "\n",
    "vmas_device = device\n",
    "\n",
    "# Sampling\n",
    "frames_per_batch = 6_000  # Number of team frames collected per training iteration\n",
    "n_iters = 10  # Number of sampling and training iterations\n",
    "total_frames = frames_per_batch * n_iters\n",
    "\n",
    "# Training\n",
    "num_epochs = 30  # Number of optimization steps per training iteration\n",
    "minibatch_size = 400  # Size of the mini-batches in each optimization step\n",
    "lr = 3e-4  # Learning rate\n",
    "max_grad_norm = 1.0  # Maximum norm for the gradients\n",
    "\n",
    "# PPO\n",
    "clip_epsilon = 0.2  # clip value for PPO loss\n",
    "gamma = 0.99  # discount factor\n",
    "lmbda = 0.9  # lambda for generalised advantage estimation\n",
    "entropy_eps = 1e-4  # coefficient of the entropy term in the PPO loss\n",
    "\n",
    "# disable log-prob aggregation\n",
    "set_composite_lp_aggregate(False).set()"
   ]
  },
  {
   "cell_type": "markdown",
   "metadata": {},
   "source": [
    "Choix et parametrage de l'environement utiliser. Ici il s'agit de l'environement de navigation de Vmas."
   ]
  },
  {
   "cell_type": "code",
   "execution_count": 4,
   "metadata": {},
   "outputs": [
    {
     "name": "stderr",
     "output_type": "stream",
     "text": [
      "Gym has been unmaintained since 2022 and does not support NumPy 2.0 amongst other critical functionality.\n",
      "Please upgrade to Gymnasium, the maintained drop-in replacement of Gym, or contact the authors of your software and request that they upgrade.\n",
      "Users of this version of Gym should be able to simply replace 'import gym' with 'import gymnasium as gym' in the vast majority of cases.\n",
      "See the migration guide at https://gymnasium.farama.org/introduction/migration_guide/ for additional information.\n"
     ]
    }
   ],
   "source": [
    "max_steps = 100  # Episode steps before done\n",
    "num_vmas_envs = (\n",
    "    frames_per_batch // max_steps\n",
    ")  # Number of vectorized envs. frames_per_batch should be divisible by this number\n",
    "scenario_name = \"navigation\"\n",
    "n_agents = 3\n",
    "\n",
    "env = VmasEnv(\n",
    "    scenario=scenario_name,\n",
    "    num_envs=num_vmas_envs,\n",
    "    continuous_actions=True,  # VMAS supports both continuous and discrete actions\n",
    "    max_steps=max_steps,\n",
    "    device=vmas_device,\n",
    "    # Scenario kwargs\n",
    "    n_agents=n_agents,\n",
    ")"
   ]
  },
  {
   "cell_type": "code",
   "execution_count": 5,
   "metadata": {},
   "outputs": [
    {
     "name": "stdout",
     "output_type": "stream",
     "text": [
      "action_spec: Composite(\n",
      "    agents: Composite(\n",
      "        action: BoundedContinuous(\n",
      "            shape=torch.Size([60, 3, 2]),\n",
      "            space=ContinuousBox(\n",
      "                low=Tensor(shape=torch.Size([60, 3, 2]), device=cpu, dtype=torch.float32, contiguous=True),\n",
      "                high=Tensor(shape=torch.Size([60, 3, 2]), device=cpu, dtype=torch.float32, contiguous=True)),\n",
      "            device=cpu,\n",
      "            dtype=torch.float32,\n",
      "            domain=continuous),\n",
      "        device=cpu,\n",
      "        shape=torch.Size([60, 3]),\n",
      "        data_cls=None),\n",
      "    device=cpu,\n",
      "    shape=torch.Size([60]),\n",
      "    data_cls=None)\n",
      "reward_spec: Composite(\n",
      "    agents: Composite(\n",
      "        reward: UnboundedContinuous(\n",
      "            shape=torch.Size([60, 3, 1]),\n",
      "            space=ContinuousBox(\n",
      "                low=Tensor(shape=torch.Size([60, 3, 1]), device=cpu, dtype=torch.float32, contiguous=True),\n",
      "                high=Tensor(shape=torch.Size([60, 3, 1]), device=cpu, dtype=torch.float32, contiguous=True)),\n",
      "            device=cpu,\n",
      "            dtype=torch.float32,\n",
      "            domain=continuous),\n",
      "        device=cpu,\n",
      "        shape=torch.Size([60, 3]),\n",
      "        data_cls=None),\n",
      "    device=cpu,\n",
      "    shape=torch.Size([60]),\n",
      "    data_cls=None)\n",
      "done_spec: Composite(\n",
      "    done: Categorical(\n",
      "        shape=torch.Size([60, 1]),\n",
      "        space=CategoricalBox(n=2),\n",
      "        device=cpu,\n",
      "        dtype=torch.bool,\n",
      "        domain=discrete),\n",
      "    terminated: Categorical(\n",
      "        shape=torch.Size([60, 1]),\n",
      "        space=CategoricalBox(n=2),\n",
      "        device=cpu,\n",
      "        dtype=torch.bool,\n",
      "        domain=discrete),\n",
      "    device=cpu,\n",
      "    shape=torch.Size([60]),\n",
      "    data_cls=None)\n",
      "observation_spec: Composite(\n",
      "    agents: Composite(\n",
      "        observation: UnboundedContinuous(\n",
      "            shape=torch.Size([60, 3, 18]),\n",
      "            space=ContinuousBox(\n",
      "                low=Tensor(shape=torch.Size([60, 3, 18]), device=cpu, dtype=torch.float32, contiguous=True),\n",
      "                high=Tensor(shape=torch.Size([60, 3, 18]), device=cpu, dtype=torch.float32, contiguous=True)),\n",
      "            device=cpu,\n",
      "            dtype=torch.float32,\n",
      "            domain=continuous),\n",
      "        info: Composite(\n",
      "            pos_rew: UnboundedContinuous(\n",
      "                shape=torch.Size([60, 3, 1]),\n",
      "                space=ContinuousBox(\n",
      "                    low=Tensor(shape=torch.Size([60, 3, 1]), device=cpu, dtype=torch.float32, contiguous=True),\n",
      "                    high=Tensor(shape=torch.Size([60, 3, 1]), device=cpu, dtype=torch.float32, contiguous=True)),\n",
      "                device=cpu,\n",
      "                dtype=torch.float32,\n",
      "                domain=continuous),\n",
      "            final_rew: UnboundedContinuous(\n",
      "                shape=torch.Size([60, 3, 1]),\n",
      "                space=ContinuousBox(\n",
      "                    low=Tensor(shape=torch.Size([60, 3, 1]), device=cpu, dtype=torch.float32, contiguous=True),\n",
      "                    high=Tensor(shape=torch.Size([60, 3, 1]), device=cpu, dtype=torch.float32, contiguous=True)),\n",
      "                device=cpu,\n",
      "                dtype=torch.float32,\n",
      "                domain=continuous),\n",
      "            agent_collisions: UnboundedContinuous(\n",
      "                shape=torch.Size([60, 3, 1]),\n",
      "                space=ContinuousBox(\n",
      "                    low=Tensor(shape=torch.Size([60, 3, 1]), device=cpu, dtype=torch.float32, contiguous=True),\n",
      "                    high=Tensor(shape=torch.Size([60, 3, 1]), device=cpu, dtype=torch.float32, contiguous=True)),\n",
      "                device=cpu,\n",
      "                dtype=torch.float32,\n",
      "                domain=continuous),\n",
      "            device=cpu,\n",
      "            shape=torch.Size([60, 3]),\n",
      "            data_cls=None),\n",
      "        device=cpu,\n",
      "        shape=torch.Size([60, 3]),\n",
      "        data_cls=None),\n",
      "    device=cpu,\n",
      "    shape=torch.Size([60]),\n",
      "    data_cls=None)\n"
     ]
    }
   ],
   "source": [
    "print(\"action_spec:\", env.full_action_spec)\n",
    "print(\"reward_spec:\", env.full_reward_spec)\n",
    "print(\"done_spec:\", env.full_done_spec)\n",
    "print(\"observation_spec:\", env.observation_spec)"
   ]
  },
  {
   "cell_type": "code",
   "execution_count": 6,
   "metadata": {},
   "outputs": [
    {
     "name": "stdout",
     "output_type": "stream",
     "text": [
      "action_keys: [('agents', 'action')]\n",
      "reward_keys: [('agents', 'reward')]\n",
      "done_keys: ['done', 'terminated']\n"
     ]
    }
   ],
   "source": [
    "print(\"action_keys:\", env.action_keys)\n",
    "print(\"reward_keys:\", env.reward_keys)\n",
    "print(\"done_keys:\", env.done_keys)"
   ]
  },
  {
   "cell_type": "markdown",
   "metadata": {},
   "source": [
    "Ajout d'une nouvelle sortie a l'environement. On somme les reward pour chaque agent au fils des iteration ca permet d'avoir un suivie des performence de l'agent a chaque étape de l'entrainement et donc pouvoir suivre si l'entrainement ce passe bien ou non."
   ]
  },
  {
   "cell_type": "code",
   "execution_count": 7,
   "metadata": {},
   "outputs": [],
   "source": [
    "env = TransformedEnv(\n",
    "    env,\n",
    "    RewardSum(in_keys=[env.reward_key], out_keys=[(\"agents\", \"episode_reward\")]),\n",
    ")"
   ]
  },
  {
   "cell_type": "code",
   "execution_count": 8,
   "metadata": {},
   "outputs": [
    {
     "name": "stdout",
     "output_type": "stream",
     "text": [
      "\u001b[92m2025-07-31 13:17:45,704 [torchrl][INFO]\u001b[0m    check_env_specs succeeded!\u001b[92m [END]\u001b[0m\n"
     ]
    }
   ],
   "source": [
    "check_env_specs(env)"
   ]
  },
  {
   "cell_type": "markdown",
   "metadata": {},
   "source": [
    "Test pour voir la forme de la sortie dans une trajectoire complete (rollout). Ici la trajectoire fait 5 steps."
   ]
  },
  {
   "cell_type": "code",
   "execution_count": 9,
   "metadata": {},
   "outputs": [
    {
     "name": "stdout",
     "output_type": "stream",
     "text": [
      "rollout of three steps: TensorDict(\n",
      "    fields={\n",
      "        agents: TensorDict(\n",
      "            fields={\n",
      "                action: Tensor(shape=torch.Size([60, 5, 3, 2]), device=cpu, dtype=torch.float32, is_shared=False),\n",
      "                episode_reward: Tensor(shape=torch.Size([60, 5, 3, 1]), device=cpu, dtype=torch.float32, is_shared=False),\n",
      "                info: TensorDict(\n",
      "                    fields={\n",
      "                        agent_collisions: Tensor(shape=torch.Size([60, 5, 3, 1]), device=cpu, dtype=torch.float32, is_shared=False),\n",
      "                        final_rew: Tensor(shape=torch.Size([60, 5, 3, 1]), device=cpu, dtype=torch.float32, is_shared=False),\n",
      "                        pos_rew: Tensor(shape=torch.Size([60, 5, 3, 1]), device=cpu, dtype=torch.float32, is_shared=False)},\n",
      "                    batch_size=torch.Size([60, 5, 3]),\n",
      "                    device=cpu,\n",
      "                    is_shared=False),\n",
      "                observation: Tensor(shape=torch.Size([60, 5, 3, 18]), device=cpu, dtype=torch.float32, is_shared=False)},\n",
      "            batch_size=torch.Size([60, 5, 3]),\n",
      "            device=cpu,\n",
      "            is_shared=False),\n",
      "        done: Tensor(shape=torch.Size([60, 5, 1]), device=cpu, dtype=torch.bool, is_shared=False),\n",
      "        next: TensorDict(\n",
      "            fields={\n",
      "                agents: TensorDict(\n",
      "                    fields={\n",
      "                        episode_reward: Tensor(shape=torch.Size([60, 5, 3, 1]), device=cpu, dtype=torch.float32, is_shared=False),\n",
      "                        info: TensorDict(\n",
      "                            fields={\n",
      "                                agent_collisions: Tensor(shape=torch.Size([60, 5, 3, 1]), device=cpu, dtype=torch.float32, is_shared=False),\n",
      "                                final_rew: Tensor(shape=torch.Size([60, 5, 3, 1]), device=cpu, dtype=torch.float32, is_shared=False),\n",
      "                                pos_rew: Tensor(shape=torch.Size([60, 5, 3, 1]), device=cpu, dtype=torch.float32, is_shared=False)},\n",
      "                            batch_size=torch.Size([60, 5, 3]),\n",
      "                            device=cpu,\n",
      "                            is_shared=False),\n",
      "                        observation: Tensor(shape=torch.Size([60, 5, 3, 18]), device=cpu, dtype=torch.float32, is_shared=False),\n",
      "                        reward: Tensor(shape=torch.Size([60, 5, 3, 1]), device=cpu, dtype=torch.float32, is_shared=False)},\n",
      "                    batch_size=torch.Size([60, 5, 3]),\n",
      "                    device=cpu,\n",
      "                    is_shared=False),\n",
      "                done: Tensor(shape=torch.Size([60, 5, 1]), device=cpu, dtype=torch.bool, is_shared=False),\n",
      "                terminated: Tensor(shape=torch.Size([60, 5, 1]), device=cpu, dtype=torch.bool, is_shared=False)},\n",
      "            batch_size=torch.Size([60, 5]),\n",
      "            device=cpu,\n",
      "            is_shared=False),\n",
      "        terminated: Tensor(shape=torch.Size([60, 5, 1]), device=cpu, dtype=torch.bool, is_shared=False)},\n",
      "    batch_size=torch.Size([60, 5]),\n",
      "    device=cpu,\n",
      "    is_shared=False)\n",
      "Shape of the rollout TensorDict: torch.Size([60, 5])\n"
     ]
    }
   ],
   "source": [
    "n_rollout_steps = 5\n",
    "rollout = env.rollout(n_rollout_steps)\n",
    "print(\"rollout of three steps:\", rollout)\n",
    "print(\"Shape of the rollout TensorDict:\", rollout.batch_size)"
   ]
  },
  {
   "cell_type": "markdown",
   "metadata": {},
   "source": [
    "Parametrage du reseux utiliser pour l'apprentisage. On utilise le modele multi agent de torchrl et on configure les parametre d'apprentisage : nombre d'agent, décentraliser, une polituqye partager. Et la forme des sortie pour qu'elles s'adapte a notre modéle ici on utilise PPO donc pour chaque actionn il faut deux sorties une pour la moyenne et une pour l'écart type."
   ]
  },
  {
   "cell_type": "code",
   "execution_count": 10,
   "metadata": {},
   "outputs": [],
   "source": [
    "share_parameters_policy = True\n",
    "\n",
    "policy_net = torch.nn.Sequential(\n",
    "    MultiAgentMLP(\n",
    "        n_agent_inputs=env.observation_spec[\"agents\", \"observation\"].shape[\n",
    "            -1\n",
    "        ],  # n_obs_per_agent\n",
    "        n_agent_outputs=2\n",
    "        * env.full_action_spec[env.action_key].shape[-1],  # 2 * n_actions_per_agents\n",
    "        n_agents=env.n_agents,\n",
    "        centralised=False,  # the policies are decentralised (ie each agent will act from its observation)\n",
    "        share_params=share_parameters_policy,\n",
    "        device=device,\n",
    "        depth=2,\n",
    "        num_cells=256,\n",
    "        activation_class=torch.nn.Tanh,\n",
    "    ),\n",
    "    NormalParamExtractor(),  # this will just separate the last dimension into two outputs: a loc and a non-negative scale\n",
    ")"
   ]
  },
  {
   "cell_type": "code",
   "execution_count": 11,
   "metadata": {},
   "outputs": [],
   "source": [
    "policy_module = TensorDictModule(\n",
    "    policy_net,\n",
    "    in_keys=[(\"agents\", \"observation\")],\n",
    "    out_keys=[(\"agents\", \"loc\"), (\"agents\", \"scale\")],\n",
    ")"
   ]
  },
  {
   "cell_type": "code",
   "execution_count": 12,
   "metadata": {},
   "outputs": [],
   "source": [
    "policy = ProbabilisticActor(\n",
    "    module=policy_module,\n",
    "    spec=env.action_spec_unbatched,\n",
    "    in_keys=[(\"agents\", \"loc\"), (\"agents\", \"scale\")],\n",
    "    out_keys=[env.action_key],\n",
    "    distribution_class=TanhNormal,\n",
    "    distribution_kwargs={\n",
    "        \"low\": env.full_action_spec_unbatched[env.action_key].space.low,\n",
    "        \"high\": env.full_action_spec_unbatched[env.action_key].space.high,\n",
    "    },\n",
    "    return_log_prob=True,\n",
    ")  # we'll need the log-prob for the PPO loss"
   ]
  },
  {
   "cell_type": "code",
   "execution_count": 13,
   "metadata": {},
   "outputs": [],
   "source": [
    "share_parameters_critic = True\n",
    "mappo = True  # IPPO if False\n",
    "\n",
    "critic_net = MultiAgentMLP(\n",
    "    n_agent_inputs=env.observation_spec[\"agents\", \"observation\"].shape[-1],\n",
    "    n_agent_outputs=1,  # 1 value per agent\n",
    "    n_agents=env.n_agents,\n",
    "    centralised=mappo,\n",
    "    share_params=share_parameters_critic,\n",
    "    device=device,\n",
    "    depth=2,\n",
    "    num_cells=256,\n",
    "    activation_class=torch.nn.Tanh,\n",
    ")\n",
    "\n",
    "critic = TensorDictModule(\n",
    "    module=critic_net,\n",
    "    in_keys=[(\"agents\", \"observation\")],\n",
    "    out_keys=[(\"agents\", \"state_value\")],\n",
    ")"
   ]
  },
  {
   "cell_type": "code",
   "execution_count": 14,
   "metadata": {},
   "outputs": [
    {
     "name": "stdout",
     "output_type": "stream",
     "text": [
      "Running policy: TensorDict(\n",
      "    fields={\n",
      "        agents: TensorDict(\n",
      "            fields={\n",
      "                action: Tensor(shape=torch.Size([60, 3, 2]), device=cpu, dtype=torch.float32, is_shared=False),\n",
      "                action_log_prob: Tensor(shape=torch.Size([60, 3]), device=cpu, dtype=torch.float32, is_shared=False),\n",
      "                episode_reward: Tensor(shape=torch.Size([60, 3, 1]), device=cpu, dtype=torch.float32, is_shared=False),\n",
      "                info: TensorDict(\n",
      "                    fields={\n",
      "                        agent_collisions: Tensor(shape=torch.Size([60, 3, 1]), device=cpu, dtype=torch.float32, is_shared=False),\n",
      "                        final_rew: Tensor(shape=torch.Size([60, 3, 1]), device=cpu, dtype=torch.float32, is_shared=False),\n",
      "                        pos_rew: Tensor(shape=torch.Size([60, 3, 1]), device=cpu, dtype=torch.float32, is_shared=False)},\n",
      "                    batch_size=torch.Size([60, 3]),\n",
      "                    device=cpu,\n",
      "                    is_shared=False),\n",
      "                loc: Tensor(shape=torch.Size([60, 3, 2]), device=cpu, dtype=torch.float32, is_shared=False),\n",
      "                observation: Tensor(shape=torch.Size([60, 3, 18]), device=cpu, dtype=torch.float32, is_shared=False),\n",
      "                scale: Tensor(shape=torch.Size([60, 3, 2]), device=cpu, dtype=torch.float32, is_shared=False)},\n",
      "            batch_size=torch.Size([60, 3]),\n",
      "            device=cpu,\n",
      "            is_shared=False),\n",
      "        done: Tensor(shape=torch.Size([60, 1]), device=cpu, dtype=torch.bool, is_shared=False),\n",
      "        terminated: Tensor(shape=torch.Size([60, 1]), device=cpu, dtype=torch.bool, is_shared=False)},\n",
      "    batch_size=torch.Size([60]),\n",
      "    device=cpu,\n",
      "    is_shared=False)\n",
      "Running value: TensorDict(\n",
      "    fields={\n",
      "        agents: TensorDict(\n",
      "            fields={\n",
      "                episode_reward: Tensor(shape=torch.Size([60, 3, 1]), device=cpu, dtype=torch.float32, is_shared=False),\n",
      "                info: TensorDict(\n",
      "                    fields={\n",
      "                        agent_collisions: Tensor(shape=torch.Size([60, 3, 1]), device=cpu, dtype=torch.float32, is_shared=False),\n",
      "                        final_rew: Tensor(shape=torch.Size([60, 3, 1]), device=cpu, dtype=torch.float32, is_shared=False),\n",
      "                        pos_rew: Tensor(shape=torch.Size([60, 3, 1]), device=cpu, dtype=torch.float32, is_shared=False)},\n",
      "                    batch_size=torch.Size([60, 3]),\n",
      "                    device=cpu,\n",
      "                    is_shared=False),\n",
      "                observation: Tensor(shape=torch.Size([60, 3, 18]), device=cpu, dtype=torch.float32, is_shared=False),\n",
      "                state_value: Tensor(shape=torch.Size([60, 3, 1]), device=cpu, dtype=torch.float32, is_shared=False)},\n",
      "            batch_size=torch.Size([60, 3]),\n",
      "            device=cpu,\n",
      "            is_shared=False),\n",
      "        done: Tensor(shape=torch.Size([60, 1]), device=cpu, dtype=torch.bool, is_shared=False),\n",
      "        terminated: Tensor(shape=torch.Size([60, 1]), device=cpu, dtype=torch.bool, is_shared=False)},\n",
      "    batch_size=torch.Size([60]),\n",
      "    device=cpu,\n",
      "    is_shared=False)\n"
     ]
    }
   ],
   "source": [
    "print(\"Running policy:\", policy(env.reset()))\n",
    "print(\"Running value:\", critic(env.reset()))"
   ]
  },
  {
   "cell_type": "markdown",
   "metadata": {},
   "source": [
    "SyncDataCollector est un object de data collector qui est la pour faire fonctioner l'environement avec la politique."
   ]
  },
  {
   "cell_type": "code",
   "execution_count": 15,
   "metadata": {},
   "outputs": [],
   "source": [
    "collector = SyncDataCollector(\n",
    "    env,\n",
    "    policy,\n",
    "    device=vmas_device,\n",
    "    storing_device=device,\n",
    "    frames_per_batch=frames_per_batch,\n",
    "    total_frames=total_frames,\n",
    ")"
   ]
  },
  {
   "cell_type": "markdown",
   "metadata": {},
   "source": [
    "Collecte les résultats de chaque pas pour les stocker. Dans ce cas la ce n'est pas nécessaire car on utilise PPO une methode on policy, donc en theorie il n'est pas nécessaire de mémoriser les données. Mais pour que le systeme soit adaptable et qu'il soit facile de changer la politique utiliser on le met. "
   ]
  },
  {
   "cell_type": "code",
   "execution_count": 16,
   "metadata": {},
   "outputs": [],
   "source": [
    "replay_buffer = ReplayBuffer(\n",
    "    storage=LazyTensorStorage(\n",
    "        frames_per_batch, device=device\n",
    "    ),  # We store the frames_per_batch collected at each iteration\n",
    "    sampler=SamplerWithoutReplacement(),\n",
    "    batch_size=minibatch_size,  # We will sample minibatches of this size\n",
    ")"
   ]
  },
  {
   "cell_type": "code",
   "execution_count": 17,
   "metadata": {},
   "outputs": [
    {
     "name": "stderr",
     "output_type": "stream",
     "text": [
      "c:\\Users\\FX643778\\AppData\\Local\\anaconda3\\envs\\pythorch_class\\lib\\site-packages\\torchrl\\objectives\\ppo.py:450: DeprecationWarning: 'entropy_coef' is deprecated and will be removed in torchrl v0.11. Please use 'entropy_coeff' instead.\n",
      "  warnings.warn(\n"
     ]
    }
   ],
   "source": [
    "loss_module = ClipPPOLoss(\n",
    "    actor_network=policy,\n",
    "    critic_network=critic,\n",
    "    clip_epsilon=clip_epsilon,\n",
    "    entropy_coef=entropy_eps,\n",
    "    normalize_advantage=False,  # Important to avoid normalizing across the agent dimension\n",
    ")\n",
    "loss_module.set_keys(  # We have to tell the loss where to find the keys\n",
    "    reward=env.reward_key,\n",
    "    action=env.action_key,\n",
    "    value=(\"agents\", \"state_value\"),\n",
    "    # These last 2 keys will be expanded to match the reward shape\n",
    "    done=(\"agents\", \"done\"),\n",
    "    terminated=(\"agents\", \"terminated\"),\n",
    ")\n",
    "\n",
    "\n",
    "loss_module.make_value_estimator(\n",
    "    ValueEstimators.GAE, gamma=gamma, lmbda=lmbda\n",
    ")  # We build GAE\n",
    "GAE = loss_module.value_estimator\n",
    "\n",
    "optim = torch.optim.Adam(loss_module.parameters(), lr)"
   ]
  },
  {
   "cell_type": "code",
   "execution_count": 18,
   "metadata": {},
   "outputs": [
    {
     "name": "stderr",
     "output_type": "stream",
     "text": [
      "episode_reward_mean = 2.6582961082458496: 100%|██████████| 10/10 [01:04<00:00,  6.51s/it]"
     ]
    }
   ],
   "source": [
    "pbar = tqdm(total=n_iters, desc=\"episode_reward_mean = 0\")\n",
    "\n",
    "episode_reward_mean_list = []\n",
    "for tensordict_data in collector:\n",
    "    tensordict_data.set(\n",
    "        (\"next\", \"agents\", \"done\"),\n",
    "        tensordict_data.get((\"next\", \"done\"))\n",
    "        .unsqueeze(-1)\n",
    "        .expand(tensordict_data.get_item_shape((\"next\", env.reward_key))),\n",
    "    )\n",
    "    tensordict_data.set(\n",
    "        (\"next\", \"agents\", \"terminated\"),\n",
    "        tensordict_data.get((\"next\", \"terminated\"))\n",
    "        .unsqueeze(-1)\n",
    "        .expand(tensordict_data.get_item_shape((\"next\", env.reward_key))),\n",
    "    )\n",
    "    # We need to expand the done and terminated to match the reward shape (this is expected by the value estimator)\n",
    "\n",
    "    with torch.no_grad():\n",
    "        GAE(\n",
    "            tensordict_data,\n",
    "            params=loss_module.critic_network_params,\n",
    "            target_params=loss_module.target_critic_network_params,\n",
    "        )  # Compute GAE and add it to the data\n",
    "\n",
    "    data_view = tensordict_data.reshape(-1)  # Flatten the batch size to shuffle data\n",
    "    replay_buffer.extend(data_view)\n",
    "\n",
    "    for _ in range(num_epochs):\n",
    "        for _ in range(frames_per_batch // minibatch_size):\n",
    "            subdata = replay_buffer.sample()\n",
    "            loss_vals = loss_module(subdata)\n",
    "\n",
    "            loss_value = (\n",
    "                loss_vals[\"loss_objective\"]\n",
    "                + loss_vals[\"loss_critic\"]\n",
    "                + loss_vals[\"loss_entropy\"]\n",
    "            )\n",
    "\n",
    "            loss_value.backward()\n",
    "\n",
    "            torch.nn.utils.clip_grad_norm_(\n",
    "                loss_module.parameters(), max_grad_norm\n",
    "            )  # Optional\n",
    "\n",
    "            optim.step()\n",
    "            optim.zero_grad()\n",
    "\n",
    "    collector.update_policy_weights_()\n",
    "\n",
    "    # Logging\n",
    "    done = tensordict_data.get((\"next\", \"agents\", \"done\"))\n",
    "    episode_reward_mean = (\n",
    "        tensordict_data.get((\"next\", \"agents\", \"episode_reward\"))[done].mean().item()\n",
    "    )\n",
    "    episode_reward_mean_list.append(episode_reward_mean)\n",
    "    pbar.set_description(f\"episode_reward_mean = {episode_reward_mean}\", refresh=False)\n",
    "    pbar.update()"
   ]
  },
  {
   "cell_type": "code",
   "execution_count": 19,
   "metadata": {},
   "outputs": [
    {
     "data": {
      "image/png": "[encoded data removed]",
      "text/plain": [
       "<Figure size 640x480 with 1 Axes>"
      ]
     },
     "metadata": {},
     "output_type": "display_data"
    }
   ],
   "source": [
    "plt.plot(episode_reward_mean_list)\n",
    "plt.xlabel(\"Training iterations\")\n",
    "plt.ylabel(\"Reward\")\n",
    "plt.title(\"Episode reward mean\")\n",
    "plt.show()"
   ]
  },
  {
   "cell_type": "code",
   "execution_count": 20,
   "metadata": {},
   "outputs": [
    {
     "ename": "",
     "evalue": "",
     "output_type": "error",
     "traceback": [
      "\u001b[1;31mLe noyau s’est bloqué lors de l’exécution du code dans une cellule active ou une cellule précédente. \n",
      "\u001b[1;31mVeuillez vérifier le code dans la ou les cellules pour identifier une cause possible de l’échec. \n",
      "\u001b[1;31mCliquez <a href='https://aka.ms/vscodeJupyterKernelCrash'>ici</a> pour plus d’informations. \n",
      "\u001b[1;31mPour plus d’informations, consultez Jupyter <a href='command:jupyter.viewOutput'>log</a>."
     ]
    }
   ],
   "source": [
    "with torch.no_grad():\n",
    "   env.rollout(\n",
    "       max_steps=max_steps,\n",
    "       policy=policy,\n",
    "       callback=lambda env, _: env.render(),\n",
    "       auto_cast_to_device=True,\n",
    "       break_when_any_done=False,\n",
    "   )"
   ]
  },
  {
   "cell_type": "code",
   "execution_count": null,
   "metadata": {},
   "outputs": [
    {
     "name": "stdout",
     "output_type": "stream",
     "text": [
      "agent_0\n",
      "[0.3303232  0.8560711  0.9209376  0.8076919  0.04149616 0.7671225\n",
      " 0.48432627 0.55417025 0.0353204  0.99076504 0.35985306 0.11851893\n",
      " 0.2303184  0.01887183 0.42475572]\n",
      "agent_1\n",
      "[0.7246486  0.7414706  0.2710491  0.87474346 0.96436167 0.06890906\n",
      " 0.6603872  0.778328   0.8051682  0.23036987 0.17518213 0.4503157\n",
      " 0.58986205 0.5215824  0.61040336]\n",
      "agent_0\n",
      "[0.86785686 0.774882   0.37935263 0.7840806  0.2656097  0.8621521\n",
      " 0.74405    0.96014    0.7389489  0.5459471  0.05169765 0.9266583\n",
      " 0.9209105  0.9771934  0.11437654]\n",
      "agent_1\n",
      "[0.79867435 0.48655885 0.6848226  0.5103217  0.08158539 0.07465586\n",
      " 0.07767667 0.3797392  0.4227094  0.18284316 0.6648153  0.32719365\n",
      " 0.2578456  0.18097107 0.26102364]\n",
      "agent_0\n",
      "[0.7822236  0.4020435  0.17444259 0.46407205 0.47806123 0.44813964\n",
      " 0.6225739  0.76242423 0.18523292 0.6043167  0.7254495  0.72082794\n",
      " 0.04519903 0.31902945 0.6689128 ]\n",
      "agent_1\n",
      "[0.10468926 0.21690378 0.8923117  0.83373344 0.35957414 0.65644747\n",
      " 0.51015323 0.3576047  0.44649178 0.2776511  0.45518416 0.37635574\n",
      " 0.6625785  0.8754546  0.4127677 ]\n",
      "agent_0\n",
      "[0.27991018 0.9027834  0.13350235 0.7099346  0.83176965 0.64449865\n",
      " 0.34574035 0.8329652  0.15681198 0.7265403  0.39121085 0.7841992\n",
      " 0.6253787  0.42417836 0.7941114 ]\n",
      "agent_1\n",
      "[0.05967148 0.6871384  0.59528357 0.08849042 0.698951   0.04652612\n",
      " 0.42632198 0.79106444 0.78748316 0.4659018  0.49162856 0.22241285\n",
      " 0.3573302  0.47966617 0.6816037 ]\n",
      "agent_0\n",
      "[0.04625672 0.53940094 0.9362569  0.396972   0.00188476 0.75616753\n",
      " 0.7641151  0.50760883 0.82387793 0.44898906 0.8821607  0.24169108\n",
      " 0.7181564  0.2876462  0.60496664]\n",
      "agent_1\n",
      "[0.6866987  0.09885783 0.5780716  0.8998984  0.6329781  0.14572607\n",
      " 0.8421751  0.18188165 0.3488687  0.92887664 0.7349577  0.92480296\n",
      " 0.6034945  0.87646645 0.8873818 ]\n",
      "agent_0\n",
      "[0.858782   0.74550825 0.7653327  0.5651118  0.8589147  0.4965035\n",
      " 0.93524915 0.2161635  0.8009714  0.1227277  0.33307055 0.4989215\n",
      " 0.7038557  0.327505   0.08458223]\n",
      "agent_1\n",
      "[0.4264735  0.04823928 0.859058   0.4410719  0.9923449  0.5221728\n",
      " 0.1609238  0.9873907  0.42742336 0.85192937 0.7293318  0.8798139\n",
      " 0.15446062 0.7937287  0.39673814]\n",
      "agent_0\n",
      "[0.622583   0.12615377 0.25960463 0.56286526 0.25816035 0.5447887\n",
      " 0.6091326  0.4803007  0.43108994 0.17591661 0.8128943  0.99160683\n",
      " 0.47576255 0.6307331  0.252071  ]\n",
      "agent_1\n",
      "[0.8821291  0.41293004 0.22905251 0.47281232 0.91568214 0.2664465\n",
      " 0.35825756 0.02453578 0.03321337 0.51190567 0.40272373 0.83850473\n",
      " 0.83001894 0.5358495  0.17304339]\n",
      "agent_0\n",
      "[0.13868006 0.19900875 0.28436157 0.00528171 0.27578372 0.82216835\n",
      " 0.43619877 0.5505446  0.07473866 0.85278815 0.57488495 0.5640082\n",
      " 0.02841279 0.7988203  0.15483819]\n",
      "agent_1\n",
      "[0.13562445 0.20958033 0.33815694 0.815558   0.06914052 0.12416381\n",
      " 0.51478124 0.4525974  0.82328296 0.12445991 0.7178942  0.8207391\n",
      " 0.27029452 0.8241959  0.6578957 ]\n",
      "agent_0\n",
      "[0.7606829  0.19208811 0.6988607  0.6404164  0.6369909  0.7224992\n",
      " 0.7382323  0.01105113 0.39571676 0.27362165 0.02427548 0.86420757\n",
      " 0.96552116 0.4114618  0.7484763 ]\n",
      "agent_1\n",
      "[0.6673213  0.6684966  0.98009473 0.8420423  0.32602137 0.56845146\n",
      " 0.30776808 0.2220462  0.05466283 0.22268042 0.6421126  0.97715604\n",
      " 0.45145455 0.7235067  0.7677863 ]\n",
      "agent_0\n",
      "[0.51961416 0.77483517 0.36479193 0.8208918  0.65800214 0.88729\n",
      " 0.397953   0.6486622  0.78500825 0.6857135  0.6203783  0.42758864\n",
      " 0.621991   0.5737711  0.35338837]\n",
      "agent_1\n",
      "[0.60932904 0.24299222 0.58069193 0.56406987 0.12469688 0.6497593\n",
      " 0.5303785  0.5687446  0.31732878 0.3612584  0.7608043  0.10688936\n",
      " 0.99661833 0.19142668 0.31458583]\n",
      "agent_0\n",
      "[0.66709006 0.70070887 0.43610662 0.39640507 0.77888244 0.9920042\n",
      " 0.52964985 0.8762942  0.47684544 0.8835185  0.45512486 0.07122815\n",
      " 0.3127194  0.05760199 0.36655983]\n",
      "agent_1\n",
      "[0.06336634 0.34922788 0.09194326 0.6530744  0.20270962 0.13007158\n",
      " 0.08479302 0.24968824 0.3793904  0.04703379 0.09354173 0.37924945\n",
      " 0.6252856  0.9109859  0.3381017 ]\n",
      "agent_0\n",
      "[0.43461257 0.7617482  0.27189043 0.0286745  0.41073942 0.03543572\n",
      " 0.29331213 0.6231679  0.29983348 0.7930596  0.7767014  0.75556684\n",
      " 0.10595938 0.5641577  0.5125388 ]\n",
      "agent_1\n",
      "[0.17218184 0.06161433 0.33416605 0.9066088  0.30883324 0.7724773\n",
      " 0.6669237  0.03384162 0.8714871  0.89484686 0.28288698 0.71730757\n",
      " 0.07626505 0.49493608 0.20910424]\n",
      "agent_0\n",
      "[0.8473907  0.18301338 0.6749496  0.6130249  0.4767683  0.83258116\n",
      " 0.6773636  0.40025672 0.04142199 0.80854833 0.38343105 0.86489964\n",
      " 0.73317534 0.84994036 0.43079433]\n",
      "agent_1\n",
      "[0.21508358 0.38329506 0.88216364 0.9130469  0.6508143  0.25678173\n",
      " 0.9605641  0.7849852  0.43072003 0.9612676  0.25766945 0.09014515\n",
      " 0.22139892 0.5807178  0.6558258 ]\n",
      "agent_0\n",
      "[0.2896614  0.9185525  0.07678209 0.7590891  0.7939908  0.44698307\n",
      " 0.50283957 0.7970812  0.8171224  0.89337856 0.6348763  0.5408828\n",
      " 0.852704   0.98163676 0.79759717]\n",
      "agent_1\n",
      "[0.5218568  0.8516435  0.7199852  0.29923895 0.10901989 0.698253\n",
      " 0.09793861 0.22900936 0.27472976 0.67265147 0.04388724 0.5876935\n",
      " 0.4521454  0.306803   0.18794006]\n",
      "agent_0\n",
      "[0.60202366 0.7781948  0.2046539  0.27044514 0.48371747 0.49944332\n",
      " 0.5450409  0.13950387 0.3155739  0.70727295 0.96120614 0.50407815\n",
      " 0.7664184  0.49722478 0.32133204]\n",
      "agent_1\n",
      "[0.70824265 0.949088   0.2509682  0.22320776 0.70427704 0.968703\n",
      " 0.23119389 0.11665445 0.4449918  0.99877787 0.6458992  0.40861642\n",
      " 0.5208813  0.06090187 0.41154155]\n",
      "agent_0\n",
      "[0.545027   0.09224641 0.50775516 0.26406717 0.93405193 0.87088287\n",
      " 0.12719446 0.76447684 0.82995886 0.34327877 0.04591179 0.86365926\n",
      " 0.25911096 0.43299794 0.4494962 ]\n",
      "agent_1\n",
      "[0.8999636  0.86667573 0.57539177 0.3921794  0.9510361  0.09898987\n",
      " 0.1401771  0.15035921 0.49520385 0.7506603  0.7545466  0.78870773\n",
      " 0.5636724  0.40632015 0.40066805]\n",
      "agent_0\n",
      "[0.7172691  0.814475   0.2938533  0.7566494  0.6556756  0.50662374\n",
      " 0.27315068 0.20865886 0.44636652 0.7062064  0.8421521  0.24284264\n",
      " 0.02697361 0.13203792 0.7010959 ]\n",
      "agent_1\n",
      "[0.95185155 0.650792   0.68229413 0.24237587 0.41870016 0.81389964\n",
      " 0.87365896 0.614228   0.064201   0.35272613 0.2381203  0.83111393\n",
      " 0.5955587  0.7078294  0.0928647 ]\n",
      "agent_0\n",
      "[0.6701394  0.33100057 0.40376183 0.08673922 0.85590553 0.57282144\n",
      " 0.5660915  0.6590044  0.5140491  0.58460873 0.71266997 0.37549382\n",
      " 0.7889847  0.07441328 0.05220535]\n",
      "agent_1\n",
      "[0.7672867  0.23057206 0.93935114 0.538827   0.9606416  0.8558196\n",
      " 0.5706175  0.56987137 0.3242604  0.03713765 0.5963986  0.6179872\n",
      " 0.4065116  0.53484696 0.184809  ]\n",
      "agent_0\n",
      "[0.3893481  0.02845945 0.62555665 0.262778   0.04526017 0.9489221\n",
      " 0.7545206  0.75383127 0.9901015  0.9500817  0.9777051  0.17282976\n",
      " 0.3033737  0.66208833 0.4984835 ]\n",
      "agent_1\n",
      "[0.85450953 0.42576227 0.92040604 0.2321288  0.01743476 0.5592801\n",
      " 0.7581227  0.8634264  0.77102536 0.7594716  0.6451944  0.18882573\n",
      " 0.9451721  0.8320878  0.7639195 ]\n",
      "agent_0\n",
      "[0.90198743 0.6737827  0.6709193  0.31143683 0.84100604 0.4702465\n",
      " 0.26927733 0.9831485  0.05867743 0.09654909 0.7653763  0.7074827\n",
      " 0.6946759  0.6166176  0.3400336 ]\n",
      "agent_1\n",
      "[0.5692436  0.72053516 0.5165552  0.71529704 0.0556118  0.45291474\n",
      " 0.18069227 0.65840787 0.70025563 0.8181384  0.23098381 0.06482458\n",
      " 0.84438926 0.14009953 0.69978064]\n",
      "agent_0\n",
      "[0.8732615  0.29645768 0.01662476 0.91575825 0.6873961  0.6071704\n",
      " 0.5555857  0.19687182 0.8465008  0.05663974 0.51807135 0.7239065\n",
      " 0.67830634 0.12290344 0.9036275 ]\n",
      "agent_1\n",
      "[0.3424506  0.8420838  0.3784272  0.24384415 0.4887201  0.8150982\n",
      " 0.35423782 0.07937583 0.5377014  0.8716256  0.3800263  0.5761517\n",
      " 0.08014771 0.93723243 0.8484728 ]\n",
      "agent_0\n",
      "[0.8822657  0.55989873 0.10564398 0.6605498  0.05290955 0.59720635\n",
      " 0.01292693 0.32793263 0.37748078 0.76445264 0.79298645 0.43994725\n",
      " 0.83156264 0.5391485  0.33623797]\n",
      "agent_1\n",
      "[0.20778158 0.2921593  0.77299565 0.77687895 0.30398497 0.7404987\n",
      " 0.43202192 0.17609727 0.88149154 0.23080312 0.8707636  0.01066396\n",
      " 0.6539232  0.37551412 0.46657217]\n",
      "agent_0\n",
      "[0.9794701  0.76798993 0.832388   0.6250763  0.737045   0.8424053\n",
      " 0.3698059  0.57085854 0.49979365 0.365792   0.7162519  0.54701555\n",
      " 0.38985613 0.8619327  0.3103875 ]\n",
      "agent_1\n",
      "[0.01174673 0.18118419 0.01027725 0.11523814 0.8700786  0.27702203\n",
      " 0.9606528  0.9913395  0.9602289  0.06005032 0.01116542 0.7432906\n",
      " 0.76771    0.1805667  0.4826598 ]\n",
      "agent_0\n",
      "[0.745657   0.37116852 0.71953607 0.45108858 0.39057356 0.20091642\n",
      " 0.8968919  0.37372795 0.31531256 0.7060539  0.48989907 0.04721595\n",
      " 0.20860721 0.8860934  0.0968183 ]\n",
      "agent_1\n",
      "[0.2016763  0.00589052 0.5464984  0.81483364 0.12580512 0.58664435\n",
      " 0.6804646  0.6566411  0.6604695  0.85541576 0.46560204 0.01319108\n",
      " 0.23552795 0.42184284 0.28828844]\n",
      "agent_0\n",
      "[0.5760655  0.2789617  0.5585034  0.5287618  0.42731124 0.63463813\n",
      " 0.19237012 0.41052115 0.4728739  0.15429042 0.10605206 0.45640695\n",
      " 0.79485613 0.647962   0.6360268 ]\n",
      "agent_1\n",
      "[0.7230833  0.9338472  0.13169552 0.06215211 0.7370141  0.44851017\n",
      " 0.99403614 0.25976184 0.700612   0.78865016 0.94874626 0.41697246\n",
      " 0.8605199  0.82583207 0.8512393 ]\n",
      "agent_0\n",
      "agent_1\n"
     ]
    }
   ],
   "source": []
  },
  {
   "cell_type": "code",
   "execution_count": null,
   "metadata": {},
   "outputs": [],
   "source": []
  }
 ],
 "metadata": {
  "kernelspec": {
   "display_name": "pythorch_class",
   "language": "python",
   "name": "python3"
  },
  "language_info": {
   "codemirror_mode": {
    "name": "ipython",
    "version": 3
   },
   "file_extension": ".py",
   "mimetype": "text/x-python",
   "name": "python",
   "nbconvert_exporter": "python",
   "pygments_lexer": "ipython3",
   "version": "3.10.18"
  }
 },
 "nbformat": 4,
 "nbformat_minor": 2
}
