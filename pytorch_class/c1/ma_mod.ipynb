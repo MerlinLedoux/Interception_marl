{
 "cells": [
  {
   "cell_type": "markdown",
   "metadata": {},
   "source": [
    "## Notebook utilisation de torch pour du MARL"
   ]
  },
  {
   "cell_type": "markdown",
   "metadata": {},
   "source": [
    "Deuxime version du note book je vais jouer sur les hyperparametre l'utilisation d'autre modele, d'autre environement pour voir tous ce qu'il est possible de faire et comprendre comment l'adapter a mon cas.\n",
    "Import de la bibliotheque torchrl et de l'ensemble des pakage nécessaire a un systeme multi agent qui tourne sur GPU"
   ]
  },
  {
   "cell_type": "code",
   "execution_count": 1,
   "metadata": {},
   "outputs": [
    {
     "name": "stderr",
     "output_type": "stream",
     "text": [
      "c:\\Users\\FX643778\\AppData\\Local\\anaconda3\\envs\\pythorch_class\\lib\\site-packages\\torchrl\\data\\replay_buffers\\samplers.py:36: UserWarning: Failed to import torchrl C++ binaries. Some modules (eg, prioritized replay buffers) may not work with your installation. This is likely due to a discrepancy between your package version and the PyTorch version. Make sure both are compatible. Usually, torchrl majors follow the pytorch majors within a few days around the release. For instance, TorchRL 0.5 requires PyTorch 2.4.0, and TorchRL 0.6 requires PyTorch 2.5.0.\n",
      "  warnings.warn(EXTENSION_WARNING)\n"
     ]
    }
   ],
   "source": [
    "import torch\n",
    "\n",
    "# Tensordict modules\n",
    "from tensordict.nn import set_composite_lp_aggregate, TensorDictModule\n",
    "from tensordict.nn.distributions import NormalParamExtractor\n",
    "from torch import multiprocessing\n",
    "\n",
    "# Data collection\n",
    "from torchrl.collectors import SyncDataCollector\n",
    "from torchrl.data.replay_buffers import ReplayBuffer\n",
    "from torchrl.data.replay_buffers.samplers import SamplerWithoutReplacement\n",
    "from torchrl.data.replay_buffers.storages import LazyTensorStorage\n",
    "\n",
    "# Env\n",
    "from torchrl.envs import RewardSum, TransformedEnv\n",
    "from torchrl.envs.libs.vmas import VmasEnv\n",
    "from torchrl.envs.utils import check_env_specs\n",
    "from torchrl.envs.libs.pettingzoo import PettingZooEnv\n",
    "\n",
    "# Multi-agent network\n",
    "from torchrl.modules import MultiAgentMLP, ProbabilisticActor, TanhNormal\n",
    "\n",
    "# Loss\n",
    "from torchrl.objectives import ClipPPOLoss, ValueEstimators\n",
    "\n",
    "# Utils\n",
    "torch.manual_seed(0)\n",
    "from matplotlib import pyplot as plt\n",
    "from tqdm import tqdm"
   ]
  },
  {
   "cell_type": "markdown",
   "metadata": {},
   "source": [
    "Selection des hyperparametre pour l'entrainement on commence par definie avec quoi sera entrainer le modele (cpu ou gpu) en fonction de ce qui est disponible sue la machine si le gpu est diponible on va préferer l'utilise car ca permet de grandement accelerer l'apprentisage. Ensuite on a l'echantilonage le nombre d'action par bath le nombre d'iteration. Les hyperparamétre general de l'entrainement et ce spécifique a la methode PPO utilisé."
   ]
  },
  {
   "cell_type": "code",
   "execution_count": 2,
   "metadata": {},
   "outputs": [
    {
     "name": "stdout",
     "output_type": "stream",
     "text": [
      "cpu\n"
     ]
    }
   ],
   "source": [
    "is_fork = multiprocessing.get_start_method() == \"fork\"\n",
    "device = (\n",
    "    torch.device(0)\n",
    "    if torch.cuda.is_available() and not is_fork\n",
    "    else torch.device(\"cpu\")\n",
    ")\n",
    "print(device)\n",
    "\n",
    "vmas_device = device\n",
    "\n",
    "# Sampling\n",
    "frames_per_batch = 6_000  # Number of team frames collected per training iteration\n",
    "n_iters = 50  # Number of sampling and training iterations\n",
    "total_frames = frames_per_batch * n_iters\n",
    "\n",
    "# Training\n",
    "num_epochs = 30  # Number of optimization steps per training iteration\n",
    "minibatch_size = 400  # Size of the mini-batches in each optimization step\n",
    "lr = 3e-4  # Learning rate\n",
    "max_grad_norm = 1.0  # Maximum norm for the gradients\n",
    "\n",
    "# PPO\n",
    "clip_epsilon = 0.2  # clip value for PPO loss\n",
    "gamma = 0.99  # discount factor\n",
    "lmbda = 0.9  # lambda for generalised advantage estimation\n",
    "entropy_eps = 1e-4  # coefficient of the entropy term in the PPO loss\n",
    "\n",
    "# disable log-prob aggregation\n",
    "set_composite_lp_aggregate(False).set()"
   ]
  },
  {
   "cell_type": "markdown",
   "metadata": {},
   "source": [
    "Choix et parametrage de l'environement utiliser. Ici il s'agit de l'environement de navigation de Vmas."
   ]
  },
  {
   "cell_type": "code",
   "execution_count": 3,
   "metadata": {},
   "outputs": [
    {
     "name": "stderr",
     "output_type": "stream",
     "text": [
      "Gym has been unmaintained since 2022 and does not support NumPy 2.0 amongst other critical functionality.\n",
      "Please upgrade to Gymnasium, the maintained drop-in replacement of Gym, or contact the authors of your software and request that they upgrade.\n",
      "Users of this version of Gym should be able to simply replace 'import gym' with 'import gymnasium as gym' in the vast majority of cases.\n",
      "See the migration guide at https://gymnasium.farama.org/introduction/migration_guide/ for additional information.\n"
     ]
    }
   ],
   "source": [
    "max_steps = 1000  # Episode steps before done\n",
    "num_vmas_envs = (\n",
    "    frames_per_batch // max_steps\n",
    ")  # Number of vectorized envs. frames_per_batch should be divisible by this number\n",
    "scenario_name = \"balance\"\n",
    "n_agents = 2\n",
    "\n",
    "\n",
    "env = VmasEnv(\n",
    "    scenario=scenario_name,\n",
    "    num_envs=num_vmas_envs,\n",
    "    continuous_actions=True,  # VMAS supports both continuous and discrete actions\n",
    "    max_steps=max_steps,\n",
    "    device=vmas_device,\n",
    "    # Scenario kwargs\n",
    "    n_agents=n_agents,\n",
    ")"
   ]
  },
  {
   "cell_type": "code",
   "execution_count": 4,
   "metadata": {},
   "outputs": [
    {
     "name": "stdout",
     "output_type": "stream",
     "text": [
      "action_spec: Composite(\n",
      "    agents: Composite(\n",
      "        action: BoundedContinuous(\n",
      "            shape=torch.Size([6, 2, 2]),\n",
      "            space=ContinuousBox(\n",
      "                low=Tensor(shape=torch.Size([6, 2, 2]), device=cpu, dtype=torch.float32, contiguous=True),\n",
      "                high=Tensor(shape=torch.Size([6, 2, 2]), device=cpu, dtype=torch.float32, contiguous=True)),\n",
      "            device=cpu,\n",
      "            dtype=torch.float32,\n",
      "            domain=continuous),\n",
      "        device=cpu,\n",
      "        shape=torch.Size([6, 2]),\n",
      "        data_cls=None),\n",
      "    device=cpu,\n",
      "    shape=torch.Size([6]),\n",
      "    data_cls=None)\n",
      "reward_spec: Composite(\n",
      "    agents: Composite(\n",
      "        reward: UnboundedContinuous(\n",
      "            shape=torch.Size([6, 2, 1]),\n",
      "            space=ContinuousBox(\n",
      "                low=Tensor(shape=torch.Size([6, 2, 1]), device=cpu, dtype=torch.float32, contiguous=True),\n",
      "                high=Tensor(shape=torch.Size([6, 2, 1]), device=cpu, dtype=torch.float32, contiguous=True)),\n",
      "            device=cpu,\n",
      "            dtype=torch.float32,\n",
      "            domain=continuous),\n",
      "        device=cpu,\n",
      "        shape=torch.Size([6, 2]),\n",
      "        data_cls=None),\n",
      "    device=cpu,\n",
      "    shape=torch.Size([6]),\n",
      "    data_cls=None)\n",
      "done_spec: Composite(\n",
      "    done: Categorical(\n",
      "        shape=torch.Size([6, 1]),\n",
      "        space=CategoricalBox(n=2),\n",
      "        device=cpu,\n",
      "        dtype=torch.bool,\n",
      "        domain=discrete),\n",
      "    terminated: Categorical(\n",
      "        shape=torch.Size([6, 1]),\n",
      "        space=CategoricalBox(n=2),\n",
      "        device=cpu,\n",
      "        dtype=torch.bool,\n",
      "        domain=discrete),\n",
      "    device=cpu,\n",
      "    shape=torch.Size([6]),\n",
      "    data_cls=None)\n",
      "observation_spec: Composite(\n",
      "    agents: Composite(\n",
      "        observation: UnboundedContinuous(\n",
      "            shape=torch.Size([6, 2, 16]),\n",
      "            space=ContinuousBox(\n",
      "                low=Tensor(shape=torch.Size([6, 2, 16]), device=cpu, dtype=torch.float32, contiguous=True),\n",
      "                high=Tensor(shape=torch.Size([6, 2, 16]), device=cpu, dtype=torch.float32, contiguous=True)),\n",
      "            device=cpu,\n",
      "            dtype=torch.float32,\n",
      "            domain=continuous),\n",
      "        info: Composite(\n",
      "            pos_rew: UnboundedContinuous(\n",
      "                shape=torch.Size([6, 2, 1]),\n",
      "                space=ContinuousBox(\n",
      "                    low=Tensor(shape=torch.Size([6, 2, 1]), device=cpu, dtype=torch.float32, contiguous=True),\n",
      "                    high=Tensor(shape=torch.Size([6, 2, 1]), device=cpu, dtype=torch.float32, contiguous=True)),\n",
      "                device=cpu,\n",
      "                dtype=torch.float32,\n",
      "                domain=continuous),\n",
      "            ground_rew: UnboundedContinuous(\n",
      "                shape=torch.Size([6, 2, 1]),\n",
      "                space=ContinuousBox(\n",
      "                    low=Tensor(shape=torch.Size([6, 2, 1]), device=cpu, dtype=torch.float32, contiguous=True),\n",
      "                    high=Tensor(shape=torch.Size([6, 2, 1]), device=cpu, dtype=torch.float32, contiguous=True)),\n",
      "                device=cpu,\n",
      "                dtype=torch.float32,\n",
      "                domain=continuous),\n",
      "            device=cpu,\n",
      "            shape=torch.Size([6, 2]),\n",
      "            data_cls=None),\n",
      "        device=cpu,\n",
      "        shape=torch.Size([6, 2]),\n",
      "        data_cls=None),\n",
      "    device=cpu,\n",
      "    shape=torch.Size([6]),\n",
      "    data_cls=None)\n"
     ]
    }
   ],
   "source": [
    "print(\"action_spec:\", env.full_action_spec)\n",
    "print(\"reward_spec:\", env.full_reward_spec)\n",
    "print(\"done_spec:\", env.full_done_spec)\n",
    "print(\"observation_spec:\", env.observation_spec)"
   ]
  },
  {
   "cell_type": "code",
   "execution_count": 5,
   "metadata": {},
   "outputs": [
    {
     "name": "stdout",
     "output_type": "stream",
     "text": [
      "action_keys: [('agents', 'action')]\n",
      "reward_keys: [('agents', 'reward')]\n",
      "done_keys: ['done', 'terminated']\n"
     ]
    }
   ],
   "source": [
    "print(\"action_keys:\", env.action_keys)\n",
    "print(\"reward_keys:\", env.reward_keys)\n",
    "print(\"done_keys:\", env.done_keys)"
   ]
  },
  {
   "cell_type": "markdown",
   "metadata": {},
   "source": [
    "Ajout d'une nouvelle sortie a l'environement. On somme les reward pour chaque agent au fils des iteration ca permet d'avoir un suivie des performence de l'agent a chaque étape de l'entrainement et donc pouvoir suivre si l'entrainement ce passe bien ou non."
   ]
  },
  {
   "cell_type": "code",
   "execution_count": 6,
   "metadata": {},
   "outputs": [],
   "source": [
    "env = TransformedEnv(\n",
    "    env,\n",
    "    RewardSum(in_keys=[env.reward_key], out_keys=[(\"agents\", \"episode_reward\")]),\n",
    ")"
   ]
  },
  {
   "cell_type": "code",
   "execution_count": 7,
   "metadata": {},
   "outputs": [
    {
     "name": "stdout",
     "output_type": "stream",
     "text": [
      "\u001b[92m2025-07-31 13:59:11,159 [torchrl][INFO]\u001b[0m    check_env_specs succeeded!\u001b[92m [END]\u001b[0m\n"
     ]
    }
   ],
   "source": [
    "check_env_specs(env)"
   ]
  },
  {
   "cell_type": "markdown",
   "metadata": {},
   "source": [
    "Test pour voir la forme de la sortie dans une trajectoire complete (rollout). Ici la trajectoire fait 5 steps."
   ]
  },
  {
   "cell_type": "code",
   "execution_count": 8,
   "metadata": {},
   "outputs": [
    {
     "name": "stdout",
     "output_type": "stream",
     "text": [
      "rollout of three steps: TensorDict(\n",
      "    fields={\n",
      "        agents: TensorDict(\n",
      "            fields={\n",
      "                action: Tensor(shape=torch.Size([6, 5, 2, 2]), device=cpu, dtype=torch.float32, is_shared=False),\n",
      "                episode_reward: Tensor(shape=torch.Size([6, 5, 2, 1]), device=cpu, dtype=torch.float32, is_shared=False),\n",
      "                info: TensorDict(\n",
      "                    fields={\n",
      "                        ground_rew: Tensor(shape=torch.Size([6, 5, 2, 1]), device=cpu, dtype=torch.float32, is_shared=False),\n",
      "                        pos_rew: Tensor(shape=torch.Size([6, 5, 2, 1]), device=cpu, dtype=torch.float32, is_shared=False)},\n",
      "                    batch_size=torch.Size([6, 5, 2]),\n",
      "                    device=cpu,\n",
      "                    is_shared=False),\n",
      "                observation: Tensor(shape=torch.Size([6, 5, 2, 16]), device=cpu, dtype=torch.float32, is_shared=False)},\n",
      "            batch_size=torch.Size([6, 5, 2]),\n",
      "            device=cpu,\n",
      "            is_shared=False),\n",
      "        done: Tensor(shape=torch.Size([6, 5, 1]), device=cpu, dtype=torch.bool, is_shared=False),\n",
      "        next: TensorDict(\n",
      "            fields={\n",
      "                agents: TensorDict(\n",
      "                    fields={\n",
      "                        episode_reward: Tensor(shape=torch.Size([6, 5, 2, 1]), device=cpu, dtype=torch.float32, is_shared=False),\n",
      "                        info: TensorDict(\n",
      "                            fields={\n",
      "                                ground_rew: Tensor(shape=torch.Size([6, 5, 2, 1]), device=cpu, dtype=torch.float32, is_shared=False),\n",
      "                                pos_rew: Tensor(shape=torch.Size([6, 5, 2, 1]), device=cpu, dtype=torch.float32, is_shared=False)},\n",
      "                            batch_size=torch.Size([6, 5, 2]),\n",
      "                            device=cpu,\n",
      "                            is_shared=False),\n",
      "                        observation: Tensor(shape=torch.Size([6, 5, 2, 16]), device=cpu, dtype=torch.float32, is_shared=False),\n",
      "                        reward: Tensor(shape=torch.Size([6, 5, 2, 1]), device=cpu, dtype=torch.float32, is_shared=False)},\n",
      "                    batch_size=torch.Size([6, 5, 2]),\n",
      "                    device=cpu,\n",
      "                    is_shared=False),\n",
      "                done: Tensor(shape=torch.Size([6, 5, 1]), device=cpu, dtype=torch.bool, is_shared=False),\n",
      "                terminated: Tensor(shape=torch.Size([6, 5, 1]), device=cpu, dtype=torch.bool, is_shared=False)},\n",
      "            batch_size=torch.Size([6, 5]),\n",
      "            device=cpu,\n",
      "            is_shared=False),\n",
      "        terminated: Tensor(shape=torch.Size([6, 5, 1]), device=cpu, dtype=torch.bool, is_shared=False)},\n",
      "    batch_size=torch.Size([6, 5]),\n",
      "    device=cpu,\n",
      "    is_shared=False)\n",
      "Shape of the rollout TensorDict: torch.Size([6, 5])\n"
     ]
    }
   ],
   "source": [
    "n_rollout_steps = 5\n",
    "rollout = env.rollout(n_rollout_steps)\n",
    "print(\"rollout of three steps:\", rollout)\n",
    "print(\"Shape of the rollout TensorDict:\", rollout.batch_size)"
   ]
  },
  {
   "cell_type": "markdown",
   "metadata": {},
   "source": [
    "Parametrage du reseux utiliser pour l'apprentisage. On utilise le modele multi agent de torchrl et on configure les parametre d'apprentisage : nombre d'agent, décentraliser, une polituqye partager. Et la forme des sortie pour qu'elles s'adapte a notre modéle ici on utilise PPO donc pour chaque actionn il faut deux sorties une pour la moyenne et une pour l'écart type."
   ]
  },
  {
   "cell_type": "code",
   "execution_count": 9,
   "metadata": {},
   "outputs": [],
   "source": [
    "share_parameters_policy = True\n",
    "\n",
    "policy_net = torch.nn.Sequential(\n",
    "    MultiAgentMLP(\n",
    "        n_agent_inputs=env.observation_spec[\"agents\", \"observation\"].shape[\n",
    "            -1\n",
    "        ],  # n_obs_per_agent\n",
    "        n_agent_outputs=2\n",
    "        * env.full_action_spec[env.action_key].shape[-1],  # 2 * n_actions_per_agents\n",
    "        # n_agents=env.n_agents,\n",
    "        n_agents=kwargs[\"n_pistons\"],\n",
    "        centralised=False,  # the policies are decentralised (ie each agent will act from its observation)\n",
    "        share_params=share_parameters_policy,\n",
    "        device=device,\n",
    "        depth=2,\n",
    "        num_cells=256,\n",
    "        activation_class=torch.nn.Tanh,\n",
    "    ),\n",
    "    NormalParamExtractor(),  # this will just separate the last dimension into two outputs: a loc and a non-negative scale\n",
    ")"
   ]
  },
  {
   "cell_type": "code",
   "execution_count": 10,
   "metadata": {},
   "outputs": [],
   "source": [
    "policy_module = TensorDictModule(\n",
    "    policy_net,\n",
    "    in_keys=[(\"agents\", \"observation\")],\n",
    "    out_keys=[(\"agents\", \"loc\"), (\"agents\", \"scale\")],\n",
    ")"
   ]
  },
  {
   "cell_type": "code",
   "execution_count": 11,
   "metadata": {},
   "outputs": [],
   "source": [
    "policy = ProbabilisticActor(\n",
    "    module=policy_module,\n",
    "    spec=env.action_spec_unbatched,\n",
    "    in_keys=[(\"agents\", \"loc\"), (\"agents\", \"scale\")],\n",
    "    out_keys=[env.action_key],\n",
    "    distribution_class=TanhNormal,\n",
    "    distribution_kwargs={\n",
    "        \"low\": env.full_action_spec_unbatched[env.action_key].space.low,\n",
    "        \"high\": env.full_action_spec_unbatched[env.action_key].space.high,\n",
    "    },\n",
    "    return_log_prob=True,\n",
    ")  # we'll need the log-prob for the PPO loss"
   ]
  },
  {
   "cell_type": "code",
   "execution_count": 12,
   "metadata": {},
   "outputs": [],
   "source": [
    "share_parameters_critic = True\n",
    "mappo = True  # IPPO if False\n",
    "\n",
    "critic_net = MultiAgentMLP(\n",
    "    n_agent_inputs=env.observation_spec[\"agents\", \"observation\"].shape[-1],\n",
    "    n_agent_outputs=1,  # 1 value per agent\n",
    "    # n_agents=env.n_agents,\n",
    "    n_agents=,\n",
    "    centralised=mappo,\n",
    "    share_params=share_parameters_critic,\n",
    "    device=device,\n",
    "    depth=2,\n",
    "    num_cells=256,\n",
    "    activation_class=torch.nn.Tanh,\n",
    ")\n",
    "\n",
    "critic = TensorDictModule(\n",
    "    module=critic_net,\n",
    "    in_keys=[(\"agents\", \"observation\")],\n",
    "    out_keys=[(\"agents\", \"state_value\")],\n",
    ")"
   ]
  },
  {
   "cell_type": "code",
   "execution_count": 13,
   "metadata": {},
   "outputs": [
    {
     "name": "stdout",
     "output_type": "stream",
     "text": [
      "Running policy: TensorDict(\n",
      "    fields={\n",
      "        agents: TensorDict(\n",
      "            fields={\n",
      "                action: Tensor(shape=torch.Size([6, 2, 2]), device=cpu, dtype=torch.float32, is_shared=False),\n",
      "                action_log_prob: Tensor(shape=torch.Size([6, 2]), device=cpu, dtype=torch.float32, is_shared=False),\n",
      "                episode_reward: Tensor(shape=torch.Size([6, 2, 1]), device=cpu, dtype=torch.float32, is_shared=False),\n",
      "                info: TensorDict(\n",
      "                    fields={\n",
      "                        ground_rew: Tensor(shape=torch.Size([6, 2, 1]), device=cpu, dtype=torch.float32, is_shared=False),\n",
      "                        pos_rew: Tensor(shape=torch.Size([6, 2, 1]), device=cpu, dtype=torch.float32, is_shared=False)},\n",
      "                    batch_size=torch.Size([6, 2]),\n",
      "                    device=cpu,\n",
      "                    is_shared=False),\n",
      "                loc: Tensor(shape=torch.Size([6, 2, 2]), device=cpu, dtype=torch.float32, is_shared=False),\n",
      "                observation: Tensor(shape=torch.Size([6, 2, 16]), device=cpu, dtype=torch.float32, is_shared=False),\n",
      "                scale: Tensor(shape=torch.Size([6, 2, 2]), device=cpu, dtype=torch.float32, is_shared=False)},\n",
      "            batch_size=torch.Size([6, 2]),\n",
      "            device=cpu,\n",
      "            is_shared=False),\n",
      "        done: Tensor(shape=torch.Size([6, 1]), device=cpu, dtype=torch.bool, is_shared=False),\n",
      "        terminated: Tensor(shape=torch.Size([6, 1]), device=cpu, dtype=torch.bool, is_shared=False)},\n",
      "    batch_size=torch.Size([6]),\n",
      "    device=cpu,\n",
      "    is_shared=False)\n",
      "Running value: TensorDict(\n",
      "    fields={\n",
      "        agents: TensorDict(\n",
      "            fields={\n",
      "                episode_reward: Tensor(shape=torch.Size([6, 2, 1]), device=cpu, dtype=torch.float32, is_shared=False),\n",
      "                info: TensorDict(\n",
      "                    fields={\n",
      "                        ground_rew: Tensor(shape=torch.Size([6, 2, 1]), device=cpu, dtype=torch.float32, is_shared=False),\n",
      "                        pos_rew: Tensor(shape=torch.Size([6, 2, 1]), device=cpu, dtype=torch.float32, is_shared=False)},\n",
      "                    batch_size=torch.Size([6, 2]),\n",
      "                    device=cpu,\n",
      "                    is_shared=False),\n",
      "                observation: Tensor(shape=torch.Size([6, 2, 16]), device=cpu, dtype=torch.float32, is_shared=False),\n",
      "                state_value: Tensor(shape=torch.Size([6, 2, 1]), device=cpu, dtype=torch.float32, is_shared=False)},\n",
      "            batch_size=torch.Size([6, 2]),\n",
      "            device=cpu,\n",
      "            is_shared=False),\n",
      "        done: Tensor(shape=torch.Size([6, 1]), device=cpu, dtype=torch.bool, is_shared=False),\n",
      "        terminated: Tensor(shape=torch.Size([6, 1]), device=cpu, dtype=torch.bool, is_shared=False)},\n",
      "    batch_size=torch.Size([6]),\n",
      "    device=cpu,\n",
      "    is_shared=False)\n"
     ]
    }
   ],
   "source": [
    "print(\"Running policy:\", policy(env.reset()))\n",
    "print(\"Running value:\", critic(env.reset()))"
   ]
  },
  {
   "cell_type": "markdown",
   "metadata": {},
   "source": [
    "SyncDataCollector est un object de data collector qui est la pour faire fonctioner l'environement avec la politique."
   ]
  },
  {
   "cell_type": "code",
   "execution_count": 14,
   "metadata": {},
   "outputs": [],
   "source": [
    "collector = SyncDataCollector(\n",
    "    env,\n",
    "    policy,\n",
    "    device=vmas_device,\n",
    "    storing_device=device,\n",
    "    frames_per_batch=frames_per_batch,\n",
    "    total_frames=total_frames,\n",
    ")"
   ]
  },
  {
   "cell_type": "markdown",
   "metadata": {},
   "source": [
    "Collecte les résultats de chaque pas pour les stocker. Dans ce cas la ce n'est pas nécessaire car on utilise PPO une methode on policy, donc en theorie il n'est pas nécessaire de mémoriser les données. Mais pour que le systeme soit adaptable et qu'il soit facile de changer la politique utiliser on le met. "
   ]
  },
  {
   "cell_type": "code",
   "execution_count": 15,
   "metadata": {},
   "outputs": [],
   "source": [
    "replay_buffer = ReplayBuffer(\n",
    "    storage=LazyTensorStorage(\n",
    "        frames_per_batch, device=device\n",
    "    ),  # We store the frames_per_batch collected at each iteration\n",
    "    sampler=SamplerWithoutReplacement(),\n",
    "    batch_size=minibatch_size,  # We will sample minibatches of this size\n",
    ")"
   ]
  },
  {
   "cell_type": "code",
   "execution_count": 16,
   "metadata": {},
   "outputs": [
    {
     "name": "stderr",
     "output_type": "stream",
     "text": [
      "c:\\Users\\FX643778\\AppData\\Local\\anaconda3\\envs\\pythorch_class\\lib\\site-packages\\torchrl\\objectives\\ppo.py:450: DeprecationWarning: 'entropy_coef' is deprecated and will be removed in torchrl v0.11. Please use 'entropy_coeff' instead.\n",
      "  warnings.warn(\n"
     ]
    }
   ],
   "source": [
    "loss_module = ClipPPOLoss(\n",
    "    actor_network=policy,\n",
    "    critic_network=critic,\n",
    "    clip_epsilon=clip_epsilon,\n",
    "    entropy_coef=entropy_eps,\n",
    "    normalize_advantage=False,  # Important to avoid normalizing across the agent dimension\n",
    ")\n",
    "loss_module.set_keys(  # We have to tell the loss where to find the keys\n",
    "    reward=env.reward_key,\n",
    "    action=env.action_key,\n",
    "    value=(\"agents\", \"state_value\"),\n",
    "    # These last 2 keys will be expanded to match the reward shape\n",
    "    done=(\"agents\", \"done\"),\n",
    "    terminated=(\"agents\", \"terminated\"),\n",
    ")\n",
    "\n",
    "\n",
    "loss_module.make_value_estimator(\n",
    "    ValueEstimators.GAE, gamma=gamma, lmbda=lmbda\n",
    ")  # We build GAE\n",
    "GAE = loss_module.value_estimator\n",
    "\n",
    "optim = torch.optim.Adam(loss_module.parameters(), lr)"
   ]
  },
  {
   "cell_type": "code",
   "execution_count": 17,
   "metadata": {},
   "outputs": [
    {
     "name": "stderr",
     "output_type": "stream",
     "text": [
      "episode_reward_mean = 100.9836196899414: 100%|██████████| 50/50 [12:35<00:00, 15.34s/it] "
     ]
    }
   ],
   "source": [
    "pbar = tqdm(total=n_iters, desc=\"episode_reward_mean = 0\")\n",
    "\n",
    "episode_reward_mean_list = []\n",
    "for tensordict_data in collector:\n",
    "    tensordict_data.set(\n",
    "        (\"next\", \"agents\", \"done\"),\n",
    "        tensordict_data.get((\"next\", \"done\"))\n",
    "        .unsqueeze(-1)\n",
    "        .expand(tensordict_data.get_item_shape((\"next\", env.reward_key))),\n",
    "    )\n",
    "    tensordict_data.set(\n",
    "        (\"next\", \"agents\", \"terminated\"),\n",
    "        tensordict_data.get((\"next\", \"terminated\"))\n",
    "        .unsqueeze(-1)\n",
    "        .expand(tensordict_data.get_item_shape((\"next\", env.reward_key))),\n",
    "    )\n",
    "    # We need to expand the done and terminated to match the reward shape (this is expected by the value estimator)\n",
    "\n",
    "    with torch.no_grad():\n",
    "        GAE(\n",
    "            tensordict_data,\n",
    "            params=loss_module.critic_network_params,\n",
    "            target_params=loss_module.target_critic_network_params,\n",
    "        )  # Compute GAE and add it to the data\n",
    "\n",
    "    data_view = tensordict_data.reshape(-1)  # Flatten the batch size to shuffle data\n",
    "    replay_buffer.extend(data_view)\n",
    "\n",
    "    for _ in range(num_epochs):\n",
    "        for _ in range(frames_per_batch // minibatch_size):\n",
    "            subdata = replay_buffer.sample()\n",
    "            loss_vals = loss_module(subdata)\n",
    "\n",
    "            loss_value = (\n",
    "                loss_vals[\"loss_objective\"]\n",
    "                + loss_vals[\"loss_critic\"]\n",
    "                + loss_vals[\"loss_entropy\"]\n",
    "            )\n",
    "\n",
    "            loss_value.backward()\n",
    "\n",
    "            torch.nn.utils.clip_grad_norm_(\n",
    "                loss_module.parameters(), max_grad_norm\n",
    "            )  # Optional\n",
    "\n",
    "            optim.step()\n",
    "            optim.zero_grad()\n",
    "\n",
    "    collector.update_policy_weights_()\n",
    "\n",
    "    # Logging\n",
    "    done = tensordict_data.get((\"next\", \"agents\", \"done\"))\n",
    "    episode_reward_mean = (\n",
    "        tensordict_data.get((\"next\", \"agents\", \"episode_reward\"))[done].mean().item()\n",
    "    )\n",
    "    episode_reward_mean_list.append(episode_reward_mean)\n",
    "    pbar.set_description(f\"episode_reward_mean = {episode_reward_mean}\", refresh=False)\n",
    "    pbar.update()"
   ]
  },
  {
   "cell_type": "code",
   "execution_count": 20,
   "metadata": {},
   "outputs": [
    {
     "data": {
      "image/png": "[encoded data removed]",
      "text/plain": [
       "<Figure size 640x480 with 1 Axes>"
      ]
     },
     "metadata": {},
     "output_type": "display_data"
    }
   ],
   "source": [
    "plt.plot(episode_reward_mean_list)\n",
    "plt.xlabel(\"Training iterations\")\n",
    "plt.ylabel(\"Reward\")\n",
    "plt.title(\"Episode reward mean\")\n",
    "plt.show()"
   ]
  },
  {
   "cell_type": "code",
   "execution_count": 22,
   "metadata": {},
   "outputs": [
    {
     "data": {
      "text/plain": [
       "TensorDict(\n",
       "    fields={\n",
       "        agents: TensorDict(\n",
       "            fields={\n",
       "                action: Tensor(shape=torch.Size([6, 1000, 2, 2]), device=cpu, dtype=torch.float32, is_shared=False),\n",
       "                action_log_prob: Tensor(shape=torch.Size([6, 1000, 2]), device=cpu, dtype=torch.float32, is_shared=False),\n",
       "                episode_reward: Tensor(shape=torch.Size([6, 1000, 2, 1]), device=cpu, dtype=torch.float32, is_shared=False),\n",
       "                info: TensorDict(\n",
       "                    fields={\n",
       "                        ground_rew: Tensor(shape=torch.Size([6, 1000, 2, 1]), device=cpu, dtype=torch.float32, is_shared=False),\n",
       "                        pos_rew: Tensor(shape=torch.Size([6, 1000, 2, 1]), device=cpu, dtype=torch.float32, is_shared=False)},\n",
       "                    batch_size=torch.Size([6, 1000, 2]),\n",
       "                    device=cpu,\n",
       "                    is_shared=False),\n",
       "                loc: Tensor(shape=torch.Size([6, 1000, 2, 2]), device=cpu, dtype=torch.float32, is_shared=False),\n",
       "                observation: Tensor(shape=torch.Size([6, 1000, 2, 16]), device=cpu, dtype=torch.float32, is_shared=False),\n",
       "                scale: Tensor(shape=torch.Size([6, 1000, 2, 2]), device=cpu, dtype=torch.float32, is_shared=False)},\n",
       "            batch_size=torch.Size([6, 1000, 2]),\n",
       "            device=cpu,\n",
       "            is_shared=False),\n",
       "        done: Tensor(shape=torch.Size([6, 1000, 1]), device=cpu, dtype=torch.bool, is_shared=False),\n",
       "        next: TensorDict(\n",
       "            fields={\n",
       "                agents: TensorDict(\n",
       "                    fields={\n",
       "                        episode_reward: Tensor(shape=torch.Size([6, 1000, 2, 1]), device=cpu, dtype=torch.float32, is_shared=False),\n",
       "                        info: TensorDict(\n",
       "                            fields={\n",
       "                                ground_rew: Tensor(shape=torch.Size([6, 1000, 2, 1]), device=cpu, dtype=torch.float32, is_shared=False),\n",
       "                                pos_rew: Tensor(shape=torch.Size([6, 1000, 2, 1]), device=cpu, dtype=torch.float32, is_shared=False)},\n",
       "                            batch_size=torch.Size([6, 1000, 2]),\n",
       "                            device=cpu,\n",
       "                            is_shared=False),\n",
       "                        observation: Tensor(shape=torch.Size([6, 1000, 2, 16]), device=cpu, dtype=torch.float32, is_shared=False),\n",
       "                        reward: Tensor(shape=torch.Size([6, 1000, 2, 1]), device=cpu, dtype=torch.float32, is_shared=False)},\n",
       "                    batch_size=torch.Size([6, 1000, 2]),\n",
       "                    device=cpu,\n",
       "                    is_shared=False),\n",
       "                done: Tensor(shape=torch.Size([6, 1000, 1]), device=cpu, dtype=torch.bool, is_shared=False),\n",
       "                terminated: Tensor(shape=torch.Size([6, 1000, 1]), device=cpu, dtype=torch.bool, is_shared=False)},\n",
       "            batch_size=torch.Size([6, 1000]),\n",
       "            device=cpu,\n",
       "            is_shared=False),\n",
       "        terminated: Tensor(shape=torch.Size([6, 1000, 1]), device=cpu, dtype=torch.bool, is_shared=False)},\n",
       "    batch_size=torch.Size([6, 1000]),\n",
       "    device=cpu,\n",
       "    is_shared=False)"
      ]
     },
     "execution_count": 22,
     "metadata": {},
     "output_type": "execute_result"
    },
    {
     "ename": "",
     "evalue": "",
     "output_type": "error",
     "traceback": [
      "\u001b[1;31mLe noyau s’est bloqué lors de l’exécution du code dans une cellule active ou une cellule précédente. \n",
      "\u001b[1;31mVeuillez vérifier le code dans la ou les cellules pour identifier une cause possible de l’échec. \n",
      "\u001b[1;31mCliquez <a href='https://aka.ms/vscodeJupyterKernelCrash'>ici</a> pour plus d’informations. \n",
      "\u001b[1;31mPour plus d’informations, consultez Jupyter <a href='command:jupyter.viewOutput'>log</a>."
     ]
    }
   ],
   "source": [
    "frame_count = 0\n",
    "max_rendered_frames = 1000\n",
    "\n",
    "def render_callback(env, _):\n",
    "    global frame_count\n",
    "    if frame_count < max_rendered_frames:\n",
    "        env.render()\n",
    "        frame_count += 1\n",
    "\n",
    "env.rollout(\n",
    "    max_steps=max_steps,\n",
    "    policy=policy,\n",
    "    callback=render_callback,\n",
    "    auto_cast_to_device=True,\n",
    "    break_when_any_done=False,\n",
    ")\n"
   ]
  },
  {
   "cell_type": "code",
   "execution_count": null,
   "metadata": {},
   "outputs": [
    {
     "name": "stdout",
     "output_type": "stream",
     "text": [
      "agent_0 -> action aléatoire : [0.23824263 0.49061593 0.2755846  0.8542123  0.8882865 ]\n",
      "agent_1 -> action aléatoire : [0.14897706 0.7427515  0.6990683  0.7407246  0.03634968]\n",
      "agent_2 -> action aléatoire : [0.89305794 0.4516947  0.55527115 0.04877529 0.7884043 ]\n",
      "agent_0 -> action aléatoire : [0.09523629 0.54154533 0.6897011  0.18387054 0.28986958]\n",
      "agent_1 -> action aléatoire : [0.5991937  0.7659306  0.01936371 0.35354733 0.282225  ]\n",
      "agent_2 -> action aléatoire : [0.770443   0.396678   0.3703459  0.39468762 0.24586804]\n",
      "agent_0 -> action aléatoire : [0.59473264 0.24170512 0.74438614 0.666603   0.6976572 ]\n",
      "agent_1 -> action aléatoire : [0.5171431  0.64193016 0.11293946 0.5451091  0.35189053]\n",
      "agent_2 -> action aléatoire : [0.9928223  0.81476974 0.90205145 0.4341866  0.4594253 ]\n",
      "agent_0 -> action aléatoire : [0.5779388  0.06964643 0.63765526 0.67694247 0.28368926]\n",
      "agent_1 -> action aléatoire : [0.31426358 0.92743313 0.4807602  0.66364884 0.34714282]\n",
      "agent_2 -> action aléatoire : [0.5335299  0.04992891 0.6240443  0.57077795 0.9206524 ]\n",
      "agent_0 -> action aléatoire : [0.40643317 0.04891945 0.21025771 0.5879345  0.13508876]\n",
      "agent_1 -> action aléatoire : [0.11987948 0.38143855 0.75536346 0.03687098 0.43113595]\n",
      "agent_2 -> action aléatoire : [0.17659636 0.5848448  0.23584309 0.1520442  0.8928466 ]\n",
      "agent_0 -> action aléatoire : [0.62489045 0.86763394 0.41811532 0.59007704 0.18759091]\n",
      "agent_1 -> action aléatoire : [0.04144876 0.8366601  0.227043   0.24960205 0.32845455]\n",
      "agent_2 -> action aléatoire : [0.7310319  0.98134243 0.41732144 0.8371487  0.9845686 ]\n",
      "agent_0 -> action aléatoire : [0.23026527 0.86820006 0.44404212 0.7249733  0.37852204]\n",
      "agent_1 -> action aléatoire : [0.0217831  0.21856977 0.20189226 0.7061403  0.9059227 ]\n",
      "agent_2 -> action aléatoire : [0.07032371 0.5805269  0.7371525  0.47002167 0.02242616]\n",
      "agent_0 -> action aléatoire : [0.4507798  0.6022961  0.37477008 0.19946678 0.08152518]\n",
      "agent_1 -> action aléatoire : [0.02081827 0.9614091  0.6896614  0.5230877  0.44791442]\n",
      "agent_2 -> action aléatoire : [0.13586253 0.6254284  0.4665318  0.473746   0.29570287]\n",
      "agent_0 -> action aléatoire : [0.4199477  0.4762436  0.35505378 0.02999647 0.81847644]\n",
      "agent_1 -> action aléatoire : [0.6093172  0.19143572 0.8875867  0.14485098 0.9213071 ]\n",
      "agent_2 -> action aléatoire : [0.2985521  0.90480345 0.06640694 0.13281342 0.98287266]\n",
      "agent_0 -> action aléatoire : [0.49566078 0.5460769  0.02510506 0.2342612  0.9231791 ]\n",
      "agent_1 -> action aléatoire : [0.12057696 0.5973418  0.9168354  0.37771234 0.7224059 ]\n",
      "agent_2 -> action aléatoire : [0.4679765  0.530785   0.83471704 0.3144687  0.15962851]\n",
      "agent_0 -> action aléatoire : [0.28684667 0.44428357 0.43765768 0.24504125 0.62580943]\n",
      "agent_1 -> action aléatoire : [0.23524763 0.05180186 0.10497545 0.45253783 0.05551175]\n",
      "agent_2 -> action aléatoire : [0.49458346 0.07748395 0.978773   0.31440994 0.18045124]\n",
      "agent_0 -> action aléatoire : [0.3086672  0.92015994 0.77488565 0.58158934 0.3883788 ]\n",
      "agent_1 -> action aléatoire : [0.12631442 0.6487031  0.84667885 0.2219774  0.04608429]\n",
      "agent_2 -> action aléatoire : [0.9786221  0.3178424  0.4804216  0.6318418  0.22036083]\n",
      "agent_0 -> action aléatoire : [0.37079683 0.63381463 0.5813542  0.00086945 0.00080991]\n",
      "agent_1 -> action aléatoire : [0.84784967 0.6432441  0.67515665 0.45085675 0.01417264]\n",
      "agent_2 -> action aléatoire : [0.28748092 0.8788532  0.97425056 0.1301596  0.40784246]\n",
      "agent_0 -> action aléatoire : [0.45028082 0.592791   0.7016962  0.04014555 0.9225335 ]\n",
      "agent_1 -> action aléatoire : [0.74789304 0.5055605  0.87078214 0.22281356 0.17630471]\n",
      "agent_2 -> action aléatoire : [0.85968    0.77897877 0.09303831 0.82138795 0.33184054]\n",
      "agent_0 -> action aléatoire : [0.9372435  0.2529605  0.23970155 0.57442194 0.3747753 ]\n",
      "agent_1 -> action aléatoire : [0.28266516 0.12226793 0.96094304 0.03879035 0.6512222 ]\n",
      "agent_2 -> action aléatoire : [0.34552115 0.30835447 0.94343996 0.16774504 0.20087682]\n",
      "agent_0 -> action aléatoire : [0.10532107 0.8042921  0.4052037  0.679657   0.8694277 ]\n",
      "agent_1 -> action aléatoire : [0.09373377 0.11191266 0.39432046 0.9684032  0.21665265]\n",
      "agent_2 -> action aléatoire : [0.19791985 0.9246868  0.8140648  0.572195   0.22047934]\n",
      "agent_0 -> action aléatoire : [0.8719016  0.09012836 0.3174027  0.2634607  0.8881775 ]\n",
      "agent_1 -> action aléatoire : [0.5124314  0.11253322 0.6053201  0.8793752  0.15101016]\n",
      "agent_2 -> action aléatoire : [0.62167525 0.89920336 0.5399677  0.9149025  0.33835423]\n",
      "agent_0 -> action aléatoire : [0.04473594 0.4336275  0.32565147 0.7225966  0.21635728]\n",
      "agent_1 -> action aléatoire : [0.760783   0.07894984 0.00512028 0.96184164 0.82284737]\n",
      "agent_2 -> action aléatoire : [0.6713586  0.5557087  0.8468757  0.23989896 0.5904449 ]\n",
      "agent_0 -> action aléatoire : [0.54038274 0.10030045 0.01830853 0.06862398 0.21900354]\n",
      "agent_1 -> action aléatoire : [0.7870793  0.90798867 0.4890546  0.94412524 0.04347851]\n",
      "agent_2 -> action aléatoire : [0.61072445 0.324588   0.3120348  0.08112454 0.23667298]\n",
      "agent_0 -> action aléatoire : [0.55214816 0.20591801 0.75662214 0.2541972  0.94812953]\n",
      "agent_1 -> action aléatoire : [0.33834782 0.8486798  0.51094824 0.13545486 0.5704945 ]\n",
      "agent_2 -> action aléatoire : [0.35870215 0.03731233 0.6972068  0.7687081  0.45131913]\n",
      "agent_0 -> action aléatoire : [0.9218042  0.93519217 0.11214577 0.48570666 0.1159061 ]\n",
      "agent_1 -> action aléatoire : [0.05032873 0.6055403  0.84803975 0.11117842 0.30881074]\n",
      "agent_2 -> action aléatoire : [0.79582584 0.25733584 0.07439663 0.7179644  0.3144464 ]\n",
      "agent_0 -> action aléatoire : [0.01967834 0.50845844 0.3390842  0.93188995 0.28387886]\n",
      "agent_1 -> action aléatoire : [0.60525095 0.80832404 0.8331283  0.2976284  0.8637405 ]\n",
      "agent_2 -> action aléatoire : [0.01883848 0.33154583 0.14327651 0.39839593 0.5737219 ]\n",
      "agent_0 -> action aléatoire : [0.43944642 0.204808   0.88624203 0.98335546 0.6109707 ]\n",
      "agent_1 -> action aléatoire : [0.9153749  0.35987124 0.37636653 0.96860635 0.429613  ]\n",
      "agent_2 -> action aléatoire : [0.8009038  0.68908256 0.22835852 0.37144458 0.8051454 ]\n",
      "agent_0 -> action aléatoire : [0.6168093  0.80399483 0.39423224 0.23126268 0.509428  ]\n",
      "agent_1 -> action aléatoire : [0.37490526 0.8722738  0.2897992  0.5176896  0.85558814]\n",
      "agent_2 -> action aléatoire : [0.88289165 0.53193814 0.2788745  0.4564099  0.2541828 ]\n",
      "agent_0 -> action aléatoire : [0.7044304  0.47726133 0.7328496  0.6270426  0.08220001]\n",
      "agent_1 -> action aléatoire : [0.01990571 0.09204454 0.75741935 0.25299817 0.22173676]\n",
      "agent_2 -> action aléatoire : [0.55105984 0.91888726 0.09841374 0.973899   0.7621421 ]\n",
      "Total reward (somme sur tous les agents, normalisée) : -21.032816057926816\n"
     ]
    }
   ],
   "source": [
    "import torch\n",
    "import numpy as np\n",
    "from pettingzoo.mpe import simple_spread_v3\n",
    "\n",
    "env = simple_spread_v3.env(render_mode=\"human\", continuous_actions=True)\n",
    "env.reset()\n",
    "\n",
    "obs_vide = torch.zeros(18, dtype=torch.float32)\n",
    "obs_agent0 = obs_vide.clone()\n",
    "obs_agent1 = obs_vide.clone()\n",
    "obs_agent2 = obs_vide.clone()\n",
    "\n",
    "sum_reward = 0\n",
    "\n",
    "for agent in env.agent_iter():\n",
    "    env.render()\n",
    "    observation, reward, termination, truncation, info = env.last()\n",
    "    sum_reward += reward / 3  # Moyenne simple entre 3 agents\n",
    "\n",
    "    if termination or truncation:\n",
    "        action = None\n",
    "    else:\n",
    "        # Action aléatoire de l'agent actif\n",
    "        action = env.action_space(agent).sample()\n",
    "        \n",
    "\n",
    "        # Mise à jour des observations (facultatif ici, mais utile si tu veux les afficher)\n",
    "        obs = torch.tensor(observation, dtype=torch.float32)\n",
    "        if agent == \"agent_0\":\n",
    "            obs_agent0 = obs\n",
    "        elif agent == \"agent_1\":\n",
    "            obs_agent1 = obs\n",
    "        elif agent == \"agent_2\":\n",
    "            obs_agent2 = obs\n",
    "\n",
    "        print(f\"{agent} -> action aléatoire : {action}\")\n",
    "\n",
    "    env.step(action)\n",
    "\n",
    "env.close()\n",
    "print(\"Total reward (somme sur tous les agents, normalisée) :\", sum_reward)\n"
   ]
  },
  {
   "cell_type": "code",
   "execution_count": null,
   "metadata": {},
   "outputs": [],
   "source": []
  }
 ],
 "metadata": {
  "kernelspec": {
   "display_name": "pythorch_class",
   "language": "python",
   "name": "python3"
  },
  "language_info": {
   "codemirror_mode": {
    "name": "ipython",
    "version": 3
   },
   "file_extension": ".py",
   "mimetype": "text/x-python",
   "name": "python",
   "nbconvert_exporter": "python",
   "pygments_lexer": "ipython3",
   "version": "3.10.18"
  }
 },
 "nbformat": 4,
 "nbformat_minor": 2
}
