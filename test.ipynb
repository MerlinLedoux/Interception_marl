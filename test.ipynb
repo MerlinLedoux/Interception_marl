{
 "cells": [
  {
   "cell_type": "code",
   "execution_count": 1,
   "metadata": {},
   "outputs": [
    {
     "name": "stderr",
     "output_type": "stream",
     "text": [
      "c:\\Users\\FX643778\\AppData\\Local\\anaconda3\\envs\\envtest\\Lib\\site-packages\\tqdm\\auto.py:21: TqdmWarning: IProgress not found. Please update jupyter and ipywidgets. See https://ipywidgets.readthedocs.io/en/stable/user_install.html\n",
      "  from .autonotebook import tqdm as notebook_tqdm\n",
      "2025-07-28 16:30:29,398\tINFO util.py:154 -- Missing packages: ['ipywidgets']. Run `pip install -U ipywidgets`, then restart the notebook server for rich notebook output.\n",
      "2025-07-28 16:30:32,611\tINFO worker.py:1927 -- Started a local Ray instance.\n"
     ]
    },
    {
     "data": {
      "text/html": [
       "<div class=\"lm-Widget p-Widget lm-Panel p-Panel jp-Cell-outputWrapper\">\n",
       "    <div style=\"margin-left: 50px;display: flex;flex-direction: row;align-items: center\">\n",
       "        <div class=\"jp-RenderedHTMLCommon\" style=\"display: flex; flex-direction: row;\">\n",
       "  <svg viewBox=\"0 0 567 224\" fill=\"none\" xmlns=\"http://www.w3.org/2000/svg\" style=\"height: 3em;\">\n",
       "    <g clip-path=\"url(#clip0_4338_178347)\">\n",
       "        <path d=\"M341.29 165.561H355.29L330.13 129.051C345.63 123.991 354.21 112.051 354.21 94.2307C354.21 71.3707 338.72 58.1807 311.88 58.1807H271V165.561H283.27V131.661H311.8C314.25 131.661 316.71 131.501 319.01 131.351L341.25 165.561H341.29ZM283.29 119.851V70.0007H311.82C331.3 70.0007 342.34 78.2907 342.34 94.5507C342.34 111.271 331.34 119.861 311.82 119.861L283.29 119.851ZM451.4 138.411L463.4 165.561H476.74L428.74 58.1807H416L367.83 165.561H380.83L392.83 138.411H451.4ZM446.19 126.601H398L422 72.1407L446.24 126.601H446.19ZM526.11 128.741L566.91 58.1807H554.35L519.99 114.181L485.17 58.1807H472.44L514.01 129.181V165.541H526.13V128.741H526.11Z\" fill=\"var(--jp-ui-font-color0)\"/>\n",
       "        <path d=\"M82.35 104.44C84.0187 97.8827 87.8248 92.0678 93.1671 87.9146C98.5094 83.7614 105.083 81.5067 111.85 81.5067C118.617 81.5067 125.191 83.7614 130.533 87.9146C135.875 92.0678 139.681 97.8827 141.35 104.44H163.75C164.476 101.562 165.622 98.8057 167.15 96.2605L127.45 56.5605C121.071 60.3522 113.526 61.6823 106.235 60.3005C98.9443 58.9187 92.4094 54.9203 87.8602 49.0574C83.3109 43.1946 81.0609 35.8714 81.5332 28.4656C82.0056 21.0599 85.1679 14.0819 90.4252 8.8446C95.6824 3.60726 102.672 0.471508 110.08 0.0272655C117.487 -0.416977 124.802 1.86091 130.647 6.4324C136.493 11.0039 140.467 17.5539 141.821 24.8501C143.175 32.1463 141.816 39.6859 138 46.0505L177.69 85.7505C182.31 82.9877 187.58 81.4995 192.962 81.4375C198.345 81.3755 203.648 82.742 208.33 85.3976C213.012 88.0532 216.907 91.9029 219.616 96.5544C222.326 101.206 223.753 106.492 223.753 111.875C223.753 117.258 222.326 122.545 219.616 127.197C216.907 131.848 213.012 135.698 208.33 138.353C203.648 141.009 198.345 142.375 192.962 142.313C187.58 142.251 182.31 140.763 177.69 138L138 177.7C141.808 184.071 143.155 191.614 141.79 198.91C140.424 206.205 136.44 212.75 130.585 217.313C124.731 221.875 117.412 224.141 110.004 223.683C102.596 223.226 95.6103 220.077 90.3621 214.828C85.1139 209.58 81.9647 202.595 81.5072 195.187C81.0497 187.779 83.3154 180.459 87.878 174.605C92.4405 168.751 98.9853 164.766 106.281 163.401C113.576 162.035 121.119 163.383 127.49 167.19L167.19 127.49C165.664 124.941 164.518 122.182 163.79 119.3H141.39C139.721 125.858 135.915 131.673 130.573 135.826C125.231 139.98 118.657 142.234 111.89 142.234C105.123 142.234 98.5494 139.98 93.2071 135.826C87.8648 131.673 84.0587 125.858 82.39 119.3H60C58.1878 126.495 53.8086 132.78 47.6863 136.971C41.5641 141.163 34.1211 142.972 26.7579 142.059C19.3947 141.146 12.6191 137.574 7.70605 132.014C2.79302 126.454 0.0813599 119.29 0.0813599 111.87C0.0813599 104.451 2.79302 97.2871 7.70605 91.7272C12.6191 86.1673 19.3947 82.5947 26.7579 81.6817C34.1211 80.7686 41.5641 82.5781 47.6863 86.7696C53.8086 90.9611 58.1878 97.2456 60 104.44H82.35ZM100.86 204.32C103.407 206.868 106.759 208.453 110.345 208.806C113.93 209.159 117.527 208.258 120.522 206.256C123.517 204.254 125.725 201.276 126.771 197.828C127.816 194.38 127.633 190.677 126.253 187.349C124.874 184.021 122.383 181.274 119.205 179.577C116.027 177.88 112.359 177.337 108.826 178.042C105.293 178.746 102.113 180.654 99.8291 183.44C97.5451 186.226 96.2979 189.718 96.3 193.32C96.2985 195.364 96.7006 197.388 97.4831 199.275C98.2656 201.163 99.4132 202.877 100.86 204.32ZM204.32 122.88C206.868 120.333 208.453 116.981 208.806 113.396C209.159 109.811 208.258 106.214 206.256 103.219C204.254 100.223 201.275 98.0151 197.827 96.97C194.38 95.9249 190.676 96.1077 187.348 97.4873C184.02 98.8669 181.274 101.358 179.577 104.536C177.879 107.714 177.337 111.382 178.041 114.915C178.746 118.448 180.653 121.627 183.439 123.911C186.226 126.195 189.717 127.443 193.32 127.44C195.364 127.443 197.388 127.042 199.275 126.259C201.163 125.476 202.878 124.328 204.32 122.88ZM122.88 19.4205C120.333 16.8729 116.981 15.2876 113.395 14.9347C109.81 14.5817 106.213 15.483 103.218 17.4849C100.223 19.4868 98.0146 22.4654 96.9696 25.9131C95.9245 29.3608 96.1073 33.0642 97.4869 36.3922C98.8665 39.7202 101.358 42.4668 104.535 44.1639C107.713 45.861 111.381 46.4036 114.914 45.6992C118.447 44.9949 121.627 43.0871 123.911 40.301C126.195 37.515 127.442 34.0231 127.44 30.4205C127.44 28.3772 127.038 26.3539 126.255 24.4664C125.473 22.5788 124.326 20.8642 122.88 19.4205ZM19.42 100.86C16.8725 103.408 15.2872 106.76 14.9342 110.345C14.5813 113.93 15.4826 117.527 17.4844 120.522C19.4863 123.518 22.4649 125.726 25.9127 126.771C29.3604 127.816 33.0638 127.633 36.3918 126.254C39.7198 124.874 42.4664 122.383 44.1635 119.205C45.8606 116.027 46.4032 112.359 45.6988 108.826C44.9944 105.293 43.0866 102.114 40.3006 99.8296C37.5145 97.5455 34.0227 96.2983 30.42 96.3005C26.2938 96.3018 22.337 97.9421 19.42 100.86ZM100.86 100.86C98.3125 103.408 96.7272 106.76 96.3742 110.345C96.0213 113.93 96.9226 117.527 98.9244 120.522C100.926 123.518 103.905 125.726 107.353 126.771C110.8 127.816 114.504 127.633 117.832 126.254C121.16 124.874 123.906 122.383 125.604 119.205C127.301 116.027 127.843 112.359 127.139 108.826C126.434 105.293 124.527 102.114 121.741 99.8296C118.955 97.5455 115.463 96.2983 111.86 96.3005C109.817 96.299 107.793 96.701 105.905 97.4835C104.018 98.2661 102.303 99.4136 100.86 100.86Z\" fill=\"#00AEEF\"/>\n",
       "    </g>\n",
       "    <defs>\n",
       "        <clipPath id=\"clip0_4338_178347\">\n",
       "            <rect width=\"566.93\" height=\"223.75\" fill=\"white\"/>\n",
       "        </clipPath>\n",
       "    </defs>\n",
       "  </svg>\n",
       "</div>\n",
       "\n",
       "        <table class=\"jp-RenderedHTMLCommon\" style=\"border-collapse: collapse;color: var(--jp-ui-font-color1);font-size: var(--jp-ui-font-size1);\">\n",
       "    <tr>\n",
       "        <td style=\"text-align: left\"><b>Python version:</b></td>\n",
       "        <td style=\"text-align: left\"><b>3.11.11</b></td>\n",
       "    </tr>\n",
       "    <tr>\n",
       "        <td style=\"text-align: left\"><b>Ray version:</b></td>\n",
       "        <td style=\"text-align: left\"><b>2.48.0</b></td>\n",
       "    </tr>\n",
       "    \n",
       "</table>\n",
       "\n",
       "    </div>\n",
       "</div>\n"
      ],
      "text/plain": [
       "RayContext(dashboard_url='', python_version='3.11.11', ray_version='2.48.0', ray_commit='03491225d59a1ffde99c3628969ccf456be13efd')"
      ]
     },
     "execution_count": 1,
     "metadata": {},
     "output_type": "execute_result"
    }
   ],
   "source": [
    "import ray\n",
    "ray.init()"
   ]
  },
  {
   "cell_type": "code",
   "execution_count": 3,
   "metadata": {},
   "outputs": [
    {
     "name": "stderr",
     "output_type": "stream",
     "text": [
      "2025-07-28 16:32:30,830\tINFO tune.py:616 -- [output] This uses the legacy output and progress reporter, as Jupyter notebooks are not supported by the new engine, yet. For more information, please see https://github.com/ray-project/ray/issues/36949\n",
      "c:\\Users\\FX643778\\AppData\\Local\\anaconda3\\envs\\envtest\\Lib\\site-packages\\gymnasium\\spaces\\box.py:235: UserWarning: \u001b[33mWARN: Box low's precision lowered by casting to float32, current low.dtype=float64\u001b[0m\n",
      "  gym.logger.warn(\n",
      "c:\\Users\\FX643778\\AppData\\Local\\anaconda3\\envs\\envtest\\Lib\\site-packages\\gymnasium\\spaces\\box.py:305: UserWarning: \u001b[33mWARN: Box high's precision lowered by casting to float32, current high.dtype=float64\u001b[0m\n",
      "  gym.logger.warn(\n",
      "c:\\Users\\FX643778\\AppData\\Local\\anaconda3\\envs\\envtest\\Lib\\site-packages\\gymnasium\\utils\\passive_env_checker.py:134: UserWarning: \u001b[33mWARN: The obs returned by the `reset()` method was expecting numpy array dtype to be float32, actual type: float64\u001b[0m\n",
      "  logger.warn(\n",
      "c:\\Users\\FX643778\\AppData\\Local\\anaconda3\\envs\\envtest\\Lib\\site-packages\\gymnasium\\utils\\passive_env_checker.py:158: UserWarning: \u001b[33mWARN: The obs returned by the `reset()` method is not within the observation space.\u001b[0m\n",
      "  logger.warn(f\"{pre} is not within the observation space.\")\n"
     ]
    },
    {
     "data": {
      "text/html": [
       "<div class=\"tuneStatus\">\n",
       "  <div style=\"display: flex;flex-direction: row\">\n",
       "    <div style=\"display: flex;flex-direction: column;\">\n",
       "      <h3>Tune Status</h3>\n",
       "      <table>\n",
       "<tbody>\n",
       "<tr><td>Current time:</td><td>2025-07-28 16:37:55</td></tr>\n",
       "<tr><td>Running for: </td><td>00:05:18.76        </td></tr>\n",
       "<tr><td>Memory:      </td><td>14.6/15.7 GiB      </td></tr>\n",
       "</tbody>\n",
       "</table>\n",
       "    </div>\n",
       "    <div class=\"vDivider\"></div>\n",
       "    <div class=\"systemInfo\">\n",
       "      <h3>System Info</h3>\n",
       "      Using FIFO scheduling algorithm.<br>Logical resource usage: 3.0/12 CPUs, 0/0 GPUs\n",
       "    </div>\n",
       "    <div class=\"vDivider\"></div>\n",
       "<div class=\"messages\">\n",
       "  <h3>Messages</h3>\n",
       "  : ***LOW MEMORY*** less than 10% of the memory on this node is available for use. This can cause unexpected crashes. Consider reducing the memory used by your application or reducing the Ray object store size by setting `object_store_memory` when calling `ray.init`.\n",
       "  \n",
       "  \n",
       "</div>\n",
       "<style>\n",
       ".messages {\n",
       "  color: var(--jp-ui-font-color1);\n",
       "  display: flex;\n",
       "  flex-direction: column;\n",
       "  padding-left: 1em;\n",
       "  overflow-y: auto;\n",
       "}\n",
       ".messages h3 {\n",
       "  font-weight: bold;\n",
       "}\n",
       ".vDivider {\n",
       "  border-left-width: var(--jp-border-width);\n",
       "  border-left-color: var(--jp-border-color0);\n",
       "  border-left-style: solid;\n",
       "  margin: 0.5em 1em 0.5em 1em;\n",
       "}\n",
       "</style>\n",
       "\n",
       "  </div>\n",
       "  <div class=\"hDivider\"></div>\n",
       "  <div class=\"trialStatus\">\n",
       "    <h3>Trial Status</h3>\n",
       "    <table>\n",
       "<thead>\n",
       "<tr><th>Trial name                 </th><th>status  </th><th>loc            </th><th style=\"text-align: right;\">  iter</th><th style=\"text-align: right;\">  total time (s)</th><th style=\"text-align: right;\">  num_training_step_ca\n",
       "lls_per_iteration</th><th style=\"text-align: right;\">       num_env_steps_sample\n",
       "d_lifetime</th></tr>\n",
       "</thead>\n",
       "<tbody>\n",
       "<tr><td>PPO_CartPole-v1_b4cd6_00000</td><td>RUNNING </td><td>127.0.0.1:24024</td><td style=\"text-align: right;\">    34</td><td style=\"text-align: right;\">         290.098</td><td style=\"text-align: right;\">1</td><td style=\"text-align: right;\">136000</td></tr>\n",
       "</tbody>\n",
       "</table>\n",
       "  </div>\n",
       "</div>\n",
       "<style>\n",
       ".tuneStatus {\n",
       "  color: var(--jp-ui-font-color1);\n",
       "}\n",
       ".tuneStatus .systemInfo {\n",
       "  display: flex;\n",
       "  flex-direction: column;\n",
       "}\n",
       ".tuneStatus td {\n",
       "  white-space: nowrap;\n",
       "}\n",
       ".tuneStatus .trialStatus {\n",
       "  display: flex;\n",
       "  flex-direction: column;\n",
       "}\n",
       ".tuneStatus h3 {\n",
       "  font-weight: bold;\n",
       "}\n",
       ".tuneStatus .hDivider {\n",
       "  border-bottom-width: var(--jp-border-width);\n",
       "  border-bottom-color: var(--jp-border-color0);\n",
       "  border-bottom-style: solid;\n",
       "}\n",
       ".tuneStatus .vDivider {\n",
       "  border-left-width: var(--jp-border-width);\n",
       "  border-left-color: var(--jp-border-color0);\n",
       "  border-left-style: solid;\n",
       "  margin: 0.5em 1em 0.5em 1em;\n",
       "}\n",
       "</style>\n"
      ],
      "text/plain": [
       "<IPython.core.display.HTML object>"
      ]
     },
     "metadata": {},
     "output_type": "display_data"
    },
    {
     "name": "stderr",
     "output_type": "stream",
     "text": [
      "2025-07-28 16:32:36,517\tWARNING algorithm_config.py:5033 -- You are running PPO on the new API stack! This is the new default behavior for this algorithm. If you don't want to use the new API stack, set `config.api_stack(enable_rl_module_and_learner=False,enable_env_runner_and_connector_v2=False)`. For a detailed migration guide, see here: https://docs.ray.io/en/master/rllib/new-api-stack-migration-guide.html\n"
     ]
    },
    {
     "name": "stderr",
     "output_type": "stream",
     "text": [
      "\u001b[36m(PPO pid=24024)\u001b[0m 2025-07-28 16:32:45,689\tWARNING algorithm_config.py:5033 -- You are running PPO on the new API stack! This is the new default behavior for this algorithm. If you don't want to use the new API stack, set `config.api_stack(enable_rl_module_and_learner=False,enable_env_runner_and_connector_v2=False)`. For a detailed migration guide, see here: https://docs.ray.io/en/master/rllib/new-api-stack-migration-guide.html\n",
      "\u001b[36m(SingleAgentEnvRunner pid=22852)\u001b[0m 2025-07-28 16:32:56,074\tWARNING deprecation.py:50 -- DeprecationWarning: `RLModule(config=[RLModuleConfig object])` has been deprecated. Use `RLModule(observation_space=.., action_space=.., inference_only=.., model_config=.., catalog_class=..)` instead. This will raise an error in the future!\n",
      "\u001b[36m(PPO pid=24024)\u001b[0m Trainable.setup took 12.085 seconds. If your trainable is slow to initialize, consider setting reuse_actors=True to reduce actor creation overheads.\n",
      "\u001b[36m(PPO pid=24024)\u001b[0m Install gputil for GPU system monitoring.\n",
      "\u001b[36m(PPO pid=24532)\u001b[0m 2025-07-28 16:42:52,481\tWARNING algorithm_config.py:5033 -- You are running PPO on the new API stack! This is the new default behavior for this algorithm. If you don't want to use the new API stack, set `config.api_stack(enable_rl_module_and_learner=False,enable_env_runner_and_connector_v2=False)`. For a detailed migration guide, see here: https://docs.ray.io/en/master/rllib/new-api-stack-migration-guide.html\n",
      "\u001b[36m(SingleAgentEnvRunner pid=33220)\u001b[0m 2025-07-28 16:43:01,338\tWARNING deprecation.py:50 -- DeprecationWarning: `RLModule(config=[RLModuleConfig object])` has been deprecated. Use `RLModule(observation_space=.., action_space=.., inference_only=.., model_config=.., catalog_class=..)` instead. This will raise an error in the future!\n",
      "\u001b[36m(PPO pid=24532)\u001b[0m Trainable.setup took 10.395 seconds. If your trainable is slow to initialize, consider setting reuse_actors=True to reduce actor creation overheads.\n",
      "\u001b[36m(PPO pid=24532)\u001b[0m Install gputil for GPU system monitoring.\n",
      "\u001b[36m(PPO pid=34528)\u001b[0m 2025-07-28 16:51:34,485\tWARNING algorithm_config.py:5033 -- You are running PPO on the new API stack! This is the new default behavior for this algorithm. If you don't want to use the new API stack, set `config.api_stack(enable_rl_module_and_learner=False,enable_env_runner_and_connector_v2=False)`. For a detailed migration guide, see here: https://docs.ray.io/en/master/rllib/new-api-stack-migration-guide.html\n",
      "\u001b[36m(SingleAgentEnvRunner pid=17148)\u001b[0m 2025-07-28 16:51:43,616\tWARNING deprecation.py:50 -- DeprecationWarning: `RLModule(config=[RLModuleConfig object])` has been deprecated. Use `RLModule(observation_space=.., action_space=.., inference_only=.., model_config=.., catalog_class=..)` instead. This will raise an error in the future!\n",
      "\u001b[36m(PPO pid=34528)\u001b[0m Trainable.setup took 10.811 seconds. If your trainable is slow to initialize, consider setting reuse_actors=True to reduce actor creation overheads.\n",
      "\u001b[36m(PPO pid=34528)\u001b[0m Install gputil for GPU system monitoring.\n"
     ]
    },
    {
     "data": {
      "text/html": [
       "<div class=\"trialProgress\">\n",
       "  <h3>Trial Progress</h3>\n",
       "  <table>\n",
       "<thead>\n",
       "<tr><th>Trial name                 </th><th>env_runner_group                               </th><th>env_runners                                                                                                                                                                                                                                                                                                                                                                                                                                                                                                                                                                                                                                                                                                                                                                                                                                                                                                                                                                                                                                                                                                                                                                                                                                                                                                                                                                                                                                                                                                                                                                                                                                                                                                                                                                                                                                                                                                                                                                                            </th><th>fault_tolerance                                            </th><th>learners                                                                                                                                                                                                                                                                                                                                                                                                                                                                                                                                                                                                                                                                                                                                                                                                                                                                                                                                                                                                                                                                                                                                                                                                                                                                                                                                                                                                                                                                                                                                                                                                                                                                                                                                                                                                                                                </th><th style=\"text-align: right;\">  num_env_steps_sampled_lifetime</th><th style=\"text-align: right;\">  num_training_step_calls_per_iteration</th><th>perf                                                                           </th><th>timers                                                                                                                                                                                                                                                                                                    </th></tr>\n",
       "</thead>\n",
       "<tbody>\n",
       "<tr><td>PPO_CartPole-v1_b4cd6_00000</td><td>{&#x27;actor_manager_num_outstanding_async_reqs&#x27;: 0}</td><td>{&#x27;env_to_module_connector&#x27;: {&#x27;timers&#x27;: {&#x27;connectors&#x27;: {&#x27;batch_individual_items&#x27;: 1.7517657304447784e-05, &#x27;add_states_from_episodes_to_batch&#x27;: 4.669267284129658e-06, &#x27;add_time_dim_to_batch_and_zero_pad&#x27;: 7.1490214097558995e-06, &#x27;add_observations_from_episodes_to_batch&#x27;: 7.271312411842671e-06, &#x27;numpy_to_tensor&#x27;: 3.3204284352265884e-05}}, &#x27;connector_pipeline_timer&#x27;: 0.00012663471879304717}, &#x27;module_to_env_connector&#x27;: {&#x27;connector_pipeline_timer&#x27;: 0.00038317588264585883, &#x27;timers&#x27;: {&#x27;connectors&#x27;: {&#x27;listify_data_for_vector_env&#x27;: 3.158370617361975e-05, &#x27;tensor_to_numpy&#x27;: 5.228545130992118e-05, &#x27;remove_single_ts_time_rank_from_batch&#x27;: 1.7733360574292895e-06, &#x27;normalize_and_clip_actions&#x27;: 2.6352016036566804e-05, &#x27;un_batch_to_individual_items&#x27;: 1.8934637298880594e-05, &#x27;get_actions&#x27;: 0.00017401044544691676}}}, &#x27;module_episode_return_mean&#x27;: {&#x27;default_policy&#x27;: 492.44}, &#x27;weights_seq_no&#x27;: 33.0, &#x27;num_agent_steps_sampled_lifetime&#x27;: {&#x27;default_agent&#x27;: 136000.0}, &#x27;env_reset_timer&#x27;: 0.0002856499995687045, &#x27;num_episodes&#x27;: 8.0, &#x27;episode_len_mean&#x27;: 492.44, &#x27;agent_episode_return_mean&#x27;: {&#x27;default_agent&#x27;: 492.44}, &#x27;env_to_module_sum_episodes_length_in&#x27;: 226.70834030585138, &#x27;env_to_module_sum_episodes_length_out&#x27;: 226.70834030585138, &#x27;num_module_steps_sampled_lifetime&#x27;: {&#x27;default_policy&#x27;: 136000.0}, &#x27;episode_return_max&#x27;: 500.0, &#x27;num_module_steps_sampled&#x27;: {&#x27;default_policy&#x27;: 4000.0}, &#x27;episode_return_mean&#x27;: 492.44, &#x27;num_agent_steps_sampled&#x27;: {&#x27;default_agent&#x27;: 4000.0}, &#x27;num_env_steps_sampled_lifetime&#x27;: 136000.0, &#x27;sample&#x27;: 2.212521090248967, &#x27;num_episodes_lifetime&#x27;: 675.0, &#x27;episode_len_min&#x27;: 122, &#x27;num_env_steps_sampled&#x27;: 4000.0, &#x27;env_step_timer&#x27;: 4.8281739438463294e-05, &#x27;episode_len_max&#x27;: 500, &#x27;episode_return_min&#x27;: 122.0, &#x27;episode_duration_sec_mean&#x27;: 0.4226218339998013, &#x27;rlmodule_inference_timer&#x27;: 0.0001230766595624451, &#x27;time_between_sampling&#x27;: 6.825309929516648, &#x27;num_env_steps_sampled_lifetime_throughput&#x27;: 435.58133393937624}</td><td>{&#x27;num_healthy_workers&#x27;: 2, &#x27;num_remote_worker_restarts&#x27;: 0}</td><td>{&#x27;default_policy&#x27;: {&#x27;vf_explained_var&#x27;: 0.0055323243, &#x27;module_train_batch_size_mean&#x27;: 128.0, &#x27;default_optimizer_learning_rate&#x27;: 5e-05, &#x27;weights_seq_no&#x27;: 34.0, &#x27;num_module_steps_trained&#x27;: 120320, &#x27;policy_loss&#x27;: 0.06628017, &#x27;vf_loss&#x27;: 9.869518, &#x27;curr_kl_coeff&#x27;: 0.0001464843808207661, &#x27;num_module_steps_trained_lifetime&#x27;: 4104448, &#x27;vf_loss_unclipped&#x27;: 2890.6235, &#x27;mean_kl_loss&#x27;: 0.0077732895, &#x27;gradients_default_optimizer_global_norm&#x27;: 1.3989449, &#x27;curr_entropy_coeff&#x27;: 0.0, &#x27;diff_num_grad_updates_vs_sampler_policy&#x27;: 1.0, &#x27;num_trainable_parameters&#x27;: 134915, &#x27;total_loss&#x27;: 9.935801, &#x27;entropy&#x27;: 0.40375227, &#x27;num_module_steps_trained_lifetime_throughput&#x27;: 20075.86811949669}, &#x27;__all_modules__&#x27;: {&#x27;learner_connector_sum_episodes_length_out&#x27;: 4144.401081398727, &#x27;learner_connector&#x27;: {&#x27;timers&#x27;: {&#x27;connectors&#x27;: {&#x27;add_states_from_episodes_to_batch&#x27;: 7.384617162959704e-06, &#x27;add_time_dim_to_batch_and_zero_pad&#x27;: 2.7985159331064137e-05, &#x27;add_columns_from_episodes_to_train_batch&#x27;: 0.08946675977789392, &#x27;add_observations_from_episodes_to_batch&#x27;: 0.001505347000488157, &#x27;numpy_to_tensor&#x27;: 0.0008067991797152656, &#x27;batch_individual_items&#x27;: 0.08661521281868167, &#x27;add_one_ts_to_episodes_and_truncate&#x27;: 0.01628955656007061, &#x27;general_advantage_estimation&#x27;: 0.029814072775298225}}, &#x27;connector_pipeline_timer&#x27;: 0.22533164660743474}, &#x27;num_module_steps_trained_lifetime&#x27;: 4104448, &#x27;num_trainable_parameters&#x27;: 134915, &#x27;num_env_steps_trained&#x27;: 3769400, &#x27;num_env_steps_trained_lifetime&#x27;: 128974982, &#x27;learner_connector_sum_episodes_length_in&#x27;: 4000.0, &#x27;num_module_steps_trained&#x27;: 120320, &#x27;num_non_trainable_parameters&#x27;: 0, &#x27;num_env_steps_trained_lifetime_throughput&#x27;: 634838.4071141107, &#x27;num_module_steps_trained_throughput&#x27;: 20074.71270471028, &#x27;num_module_steps_trained_lifetime_throughput&#x27;: 20073.939395184625}}</td><td style=\"text-align: right;\">                          136000</td><td style=\"text-align: right;\">                                      1</td><td>{&#x27;cpu_util_percent&#x27;: 11.236363636363636, &#x27;ram_util_percent&#x27;: 92.85454545454546}</td><td>{&#x27;training_iteration&#x27;: 8.98970474292722, &#x27;restore_env_runners&#x27;: 2.0915581127840933e-05, &#x27;training_step&#x27;: 8.989233966910717, &#x27;env_runner_sampling_timer&#x27;: 2.259640294054224, &#x27;learner_update_timer&#x27;: 6.723351432997384, &#x27;synch_weights&#x27;: 0.004219617720249616, &#x27;synch_env_connectors&#x27;: 0.00960623084804624}</td></tr>\n",
       "</tbody>\n",
       "</table>\n",
       "</div>\n",
       "<style>\n",
       ".trialProgress {\n",
       "  display: flex;\n",
       "  flex-direction: column;\n",
       "  color: var(--jp-ui-font-color1);\n",
       "}\n",
       ".trialProgress h3 {\n",
       "  font-weight: bold;\n",
       "}\n",
       ".trialProgress td {\n",
       "  white-space: nowrap;\n",
       "}\n",
       "</style>\n"
      ],
      "text/plain": [
       "<IPython.core.display.HTML object>"
      ]
     },
     "metadata": {},
     "output_type": "display_data"
    },
    {
     "name": "stderr",
     "output_type": "stream",
     "text": [
      "2025-07-28 16:37:55,238\tWARNING tune.py:219 -- Stop signal received (e.g. via SIGINT/Ctrl+C), ending Ray Tune run. This will try to checkpoint the experiment state one last time. Press CTRL+C (or send SIGINT/SIGKILL/SIGTERM) to skip. \n",
      "2025-07-28 16:37:55,272\tINFO tune.py:1009 -- Wrote the latest version of all result files and experiment state to 'C:/Users/FX643778/ray_results/PPO_2025-07-28_16-32-36' in 0.0318s.\n",
      "2025-07-28 16:37:58,202\tINFO tune.py:1041 -- Total run time: 327.37 seconds (318.73 seconds for the tuning loop).\n",
      "2025-07-28 16:37:58,204\tWARNING tune.py:1056 -- Experiment has been interrupted, but the most recent state was saved.\n",
      "Resume experiment with: tune.run(..., resume=True)\n"
     ]
    },
    {
     "data": {
      "text/plain": [
       "<ray.tune.analysis.experiment_analysis.ExperimentAnalysis at 0x2268c13e210>"
      ]
     },
     "execution_count": 3,
     "metadata": {},
     "output_type": "execute_result"
    }
   ],
   "source": [
    "from ray import tune \n",
    "\n",
    "tune.run(\"PPO\",\n",
    "         config={\"env\": \"CartPole-v1\",\n",
    "                 })"
   ]
  },
  {
   "cell_type": "code",
   "execution_count": 5,
   "metadata": {},
   "outputs": [
    {
     "name": "stderr",
     "output_type": "stream",
     "text": [
      "2025-07-28 16:42:44,855\tINFO tune.py:616 -- [output] This uses the legacy output and progress reporter, as Jupyter notebooks are not supported by the new engine, yet. For more information, please see https://github.com/ray-project/ray/issues/36949\n"
     ]
    },
    {
     "data": {
      "text/html": [
       "<div class=\"tuneStatus\">\n",
       "  <div style=\"display: flex;flex-direction: row\">\n",
       "    <div style=\"display: flex;flex-direction: column;\">\n",
       "      <h3>Tune Status</h3>\n",
       "      <table>\n",
       "<tbody>\n",
       "<tr><td>Current time:</td><td>2025-07-28 16:46:58</td></tr>\n",
       "<tr><td>Running for: </td><td>00:04:13.93        </td></tr>\n",
       "<tr><td>Memory:      </td><td>14.4/15.7 GiB      </td></tr>\n",
       "</tbody>\n",
       "</table>\n",
       "    </div>\n",
       "    <div class=\"vDivider\"></div>\n",
       "    <div class=\"systemInfo\">\n",
       "      <h3>System Info</h3>\n",
       "      Using FIFO scheduling algorithm.<br>Logical resource usage: 3.0/12 CPUs, 0/0 GPUs\n",
       "    </div>\n",
       "    <div class=\"vDivider\"></div>\n",
       "<div class=\"messages\">\n",
       "  <h3>Messages</h3>\n",
       "  : ***LOW MEMORY*** less than 10% of the memory on this node is available for use. This can cause unexpected crashes. Consider reducing the memory used by your application or reducing the Ray object store size by setting `object_store_memory` when calling `ray.init`.\n",
       "  \n",
       "  \n",
       "</div>\n",
       "<style>\n",
       ".messages {\n",
       "  color: var(--jp-ui-font-color1);\n",
       "  display: flex;\n",
       "  flex-direction: column;\n",
       "  padding-left: 1em;\n",
       "  overflow-y: auto;\n",
       "}\n",
       ".messages h3 {\n",
       "  font-weight: bold;\n",
       "}\n",
       ".vDivider {\n",
       "  border-left-width: var(--jp-border-width);\n",
       "  border-left-color: var(--jp-border-color0);\n",
       "  border-left-style: solid;\n",
       "  margin: 0.5em 1em 0.5em 1em;\n",
       "}\n",
       "</style>\n",
       "\n",
       "  </div>\n",
       "  <div class=\"hDivider\"></div>\n",
       "  <div class=\"trialStatus\">\n",
       "    <h3>Trial Status</h3>\n",
       "    <table>\n",
       "<thead>\n",
       "<tr><th>Trial name                 </th><th>status  </th><th>loc            </th><th style=\"text-align: right;\">  iter</th><th style=\"text-align: right;\">  total time (s)</th><th style=\"text-align: right;\">  num_training_step_ca\n",
       "lls_per_iteration</th><th style=\"text-align: right;\">      num_env_steps_sample\n",
       "d_lifetime</th></tr>\n",
       "</thead>\n",
       "<tbody>\n",
       "<tr><td>PPO_CartPole-v1_1f6cb_00000</td><td>RUNNING </td><td>127.0.0.1:24532</td><td style=\"text-align: right;\">    24</td><td style=\"text-align: right;\">         229.978</td><td style=\"text-align: right;\">1</td><td style=\"text-align: right;\">96000</td></tr>\n",
       "</tbody>\n",
       "</table>\n",
       "  </div>\n",
       "</div>\n",
       "<style>\n",
       ".tuneStatus {\n",
       "  color: var(--jp-ui-font-color1);\n",
       "}\n",
       ".tuneStatus .systemInfo {\n",
       "  display: flex;\n",
       "  flex-direction: column;\n",
       "}\n",
       ".tuneStatus td {\n",
       "  white-space: nowrap;\n",
       "}\n",
       ".tuneStatus .trialStatus {\n",
       "  display: flex;\n",
       "  flex-direction: column;\n",
       "}\n",
       ".tuneStatus h3 {\n",
       "  font-weight: bold;\n",
       "}\n",
       ".tuneStatus .hDivider {\n",
       "  border-bottom-width: var(--jp-border-width);\n",
       "  border-bottom-color: var(--jp-border-color0);\n",
       "  border-bottom-style: solid;\n",
       "}\n",
       ".tuneStatus .vDivider {\n",
       "  border-left-width: var(--jp-border-width);\n",
       "  border-left-color: var(--jp-border-color0);\n",
       "  border-left-style: solid;\n",
       "  margin: 0.5em 1em 0.5em 1em;\n",
       "}\n",
       "</style>\n"
      ],
      "text/plain": [
       "<IPython.core.display.HTML object>"
      ]
     },
     "metadata": {},
     "output_type": "display_data"
    },
    {
     "data": {
      "text/html": [
       "<div class=\"trialProgress\">\n",
       "  <h3>Trial Progress</h3>\n",
       "  <table>\n",
       "<thead>\n",
       "<tr><th>Trial name                 </th><th>env_runner_group                               </th><th>env_runners                                                                                                                                                                                                                                                                                                                                                                                                                                                                                                                                                                                                                                                                                                                                                                                                                                                                                                                                                                                                                                                                                                                                                                                                                                                                                                                                                                                                                                                                                                                                                                                                                                                                                                                                                                                                                                                                                                                                                                                      </th><th>evaluation                                                                                                                                                                                                                                                                                                                                                                                                                                                                                                                                                                                                                                                                                                                                                                                                                                                                                                                                                                                                                                                                                                                                                                                                                                                                                                                                                                                                                                                                                                                                                                                                                                                                                                                                                                                                                                                                                                                                                                                                                                  </th><th>fault_tolerance                                            </th><th>learners                                                                                                                                                                                                                                                                                                                                                                                                                                                                                                                                                                                                                                                                                                                                                                                                                                                                                                                                                                                                                                                                                                                                                                                                                                                                                                                                                                                                                                                                                                                                                                                                                                                                                                                                                                                                                                               </th><th style=\"text-align: right;\">  num_env_steps_sampled_lifetime</th><th style=\"text-align: right;\">  num_training_step_calls_per_iteration</th><th>perf                                                                          </th><th>timers                                                                                                                                                                                                                                                                                                                                                                                                                                                       </th></tr>\n",
       "</thead>\n",
       "<tbody>\n",
       "<tr><td>PPO_CartPole-v1_1f6cb_00000</td><td>{&#x27;actor_manager_num_outstanding_async_reqs&#x27;: 0}</td><td>{&#x27;module_episode_return_mean&#x27;: {&#x27;default_policy&#x27;: 482.28}, &#x27;env_to_module_connector&#x27;: {&#x27;timers&#x27;: {&#x27;connectors&#x27;: {&#x27;numpy_to_tensor&#x27;: 3.8454136753993744e-05, &#x27;add_observations_from_episodes_to_batch&#x27;: 8.730722343074023e-06, &#x27;add_states_from_episodes_to_batch&#x27;: 5.367110424475819e-06, &#x27;add_time_dim_to_batch_and_zero_pad&#x27;: 8.175696194754363e-06, &#x27;batch_individual_items&#x27;: 2.0292806555421445e-05}}, &#x27;connector_pipeline_timer&#x27;: 0.00014683441241704088}, &#x27;rlmodule_inference_timer&#x27;: 0.00014709701552451646, &#x27;num_agent_steps_sampled&#x27;: {&#x27;default_agent&#x27;: 4000.0}, &#x27;num_module_steps_sampled_lifetime&#x27;: {&#x27;default_policy&#x27;: 96000.0}, &#x27;episode_len_max&#x27;: 500, &#x27;weights_seq_no&#x27;: 23.0, &#x27;module_to_env_connector&#x27;: {&#x27;timers&#x27;: {&#x27;connectors&#x27;: {&#x27;listify_data_for_vector_env&#x27;: 3.757705552198418e-05, &#x27;get_actions&#x27;: 0.00019816804035028228, &#x27;normalize_and_clip_actions&#x27;: 3.077587971870868e-05, &#x27;remove_single_ts_time_rank_from_batch&#x27;: 2.2907785541969467e-06, &#x27;tensor_to_numpy&#x27;: 6.015775549975233e-05, &#x27;un_batch_to_individual_items&#x27;: 2.1974466618004913e-05}}, &#x27;connector_pipeline_timer&#x27;: 0.00044072577749519506}, &#x27;episode_len_mean&#x27;: 482.28, &#x27;episode_len_min&#x27;: 217, &#x27;num_env_steps_sampled_lifetime&#x27;: 96000.0, &#x27;num_module_steps_sampled&#x27;: {&#x27;default_policy&#x27;: 4000.0}, &#x27;episode_return_max&#x27;: 500.0, &#x27;num_episodes&#x27;: 8.0, &#x27;num_episodes_lifetime&#x27;: 566.0, &#x27;env_step_timer&#x27;: 5.632580185748758e-05, &#x27;episode_return_min&#x27;: 217.0, &#x27;agent_episode_return_mean&#x27;: {&#x27;default_agent&#x27;: 482.28}, &#x27;sample&#x27;: 1.6363610420421086, &#x27;env_to_module_sum_episodes_length_in&#x27;: 195.0018409881779, &#x27;env_reset_timer&#x27;: 0.0002715999999054475, &#x27;episode_duration_sec_mean&#x27;: 0.45915288999982296, &#x27;num_env_steps_sampled&#x27;: 4000.0, &#x27;num_agent_steps_sampled_lifetime&#x27;: {&#x27;default_agent&#x27;: 96000.0}, &#x27;env_to_module_sum_episodes_length_out&#x27;: 195.0018409881779, &#x27;episode_return_mean&#x27;: 482.28, &#x27;time_between_sampling&#x27;: 6.127663592127874, &#x27;num_env_steps_sampled_lifetime_throughput&#x27;: 738.8015984140889}</td><td>{&#x27;env_runners&#x27;: {&#x27;num_agent_steps_sampled_lifetime&#x27;: {&#x27;default_agent&#x27;: 46458}, &#x27;env_to_module_connector&#x27;: {&#x27;timers&#x27;: {&#x27;connectors&#x27;: {&#x27;numpy_to_tensor&#x27;: 2.9030486862461596e-05, &#x27;add_observations_from_episodes_to_batch&#x27;: 6.400465096923628e-06, &#x27;add_states_from_episodes_to_batch&#x27;: 4.153713048660377e-06, &#x27;add_time_dim_to_batch_and_zero_pad&#x27;: 5.842030100084566e-06, &#x27;batch_individual_items&#x27;: 1.6072971208179398e-05}}, &#x27;connector_pipeline_timer&#x27;: 0.0001144392525244294}, &#x27;module_to_env_connector&#x27;: {&#x27;timers&#x27;: {&#x27;connectors&#x27;: {&#x27;normalize_and_clip_actions&#x27;: 2.431692296928823e-05, &#x27;un_batch_to_individual_items&#x27;: 1.741104844200082e-05, &#x27;listify_data_for_vector_env&#x27;: 2.9101250183312023e-05, &#x27;get_actions&#x27;: 0.00015290897694779376, &#x27;tensor_to_numpy&#x27;: 4.7419017412746003e-05, &#x27;remove_single_ts_time_rank_from_batch&#x27;: 1.6146118998575042e-06}}, &#x27;connector_pipeline_timer&#x27;: 0.00034444779331554076}, &#x27;rlmodule_inference_timer&#x27;: 0.00010294629932733919, &#x27;episode_len_max&#x27;: 500, &#x27;num_module_steps_sampled_lifetime&#x27;: {&#x27;default_policy&#x27;: 46458}, &#x27;num_module_steps_sampled&#x27;: {&#x27;default_policy&#x27;: 5000}, &#x27;num_episodes&#x27;: 10, &#x27;episode_return_max&#x27;: 500.0, &#x27;agent_episode_return_mean&#x27;: {&#x27;default_agent&#x27;: 443.67}, &#x27;sample&#x27;: 0.7309964787594347, &#x27;num_env_steps_sampled&#x27;: 5000, &#x27;episode_return_mean&#x27;: 443.67, &#x27;num_agent_steps_sampled&#x27;: {&#x27;default_agent&#x27;: 5000}, &#x27;episode_len_mean&#x27;: 443.67, &#x27;num_env_steps_sampled_lifetime&#x27;: 46458, &#x27;env_step_timer&#x27;: 4.248424815467437e-05, &#x27;env_to_module_sum_episodes_length_in&#x27;: 404.2802310597345, &#x27;episode_duration_sec_mean&#x27;: 0.3406801089999135, &#x27;weights_seq_no&#x27;: 24.0, &#x27;episode_len_min&#x27;: 31, &#x27;episode_return_min&#x27;: 31.0, &#x27;env_reset_timer&#x27;: 0.00025654145792283284, &#x27;env_to_module_sum_episodes_length_out&#x27;: 404.2802310597345, &#x27;module_episode_return_mean&#x27;: {&#x27;default_policy&#x27;: 443.67}, &#x27;num_episodes_lifetime&#x27;: 120, &#x27;time_between_sampling&#x27;: 15.013383253752119}, &#x27;num_healthy_workers&#x27;: 0, &#x27;actor_manager_num_outstanding_async_reqs&#x27;: 0, &#x27;num_remote_worker_restarts&#x27;: 0}</td><td>{&#x27;num_healthy_workers&#x27;: 2, &#x27;num_remote_worker_restarts&#x27;: 0}</td><td>{&#x27;__all_modules__&#x27;: {&#x27;learner_connector&#x27;: {&#x27;timers&#x27;: {&#x27;connectors&#x27;: {&#x27;add_states_from_episodes_to_batch&#x27;: 7.571449463843355e-06, &#x27;add_time_dim_to_batch_and_zero_pad&#x27;: 3.071312645644918e-05, &#x27;add_columns_from_episodes_to_train_batch&#x27;: 0.0782807225900471, &#x27;batch_individual_items&#x27;: 0.07424050147239582, &#x27;numpy_to_tensor&#x27;: 0.0002799332742515954, &#x27;add_one_ts_to_episodes_and_truncate&#x27;: 0.013581764376932157, &#x27;general_advantage_estimation&#x27;: 0.023423561827622816, &#x27;add_observations_from_episodes_to_batch&#x27;: 0.0015101630441940479}}, &#x27;connector_pipeline_timer&#x27;: 0.19189760017656438}, &#x27;num_non_trainable_parameters&#x27;: 0, &#x27;learner_connector_sum_episodes_length_in&#x27;: 4000.0, &#x27;num_trainable_parameters&#x27;: 134915, &#x27;num_env_steps_trained_lifetime&#x27;: 91203739, &#x27;num_env_steps_trained&#x27;: 3769400, &#x27;learner_connector_sum_episodes_length_out&#x27;: 4142.650316974188, &#x27;num_module_steps_trained&#x27;: 120320, &#x27;num_module_steps_trained_lifetime&#x27;: 2899712, &#x27;num_env_steps_trained_lifetime_throughput&#x27;: 687361.6285149744, &#x27;num_module_steps_trained_throughput&#x27;: 21622.688315769687, &#x27;num_module_steps_trained_lifetime_throughput&#x27;: 21621.885374211357}, &#x27;default_policy&#x27;: {&#x27;entropy&#x27;: 0.5454082, &#x27;vf_explained_var&#x27;: -0.017540574, &#x27;diff_num_grad_updates_vs_sampler_policy&#x27;: 1.0, &#x27;curr_kl_coeff&#x27;: 0.00937500037252903, &#x27;vf_loss&#x27;: 9.937335, &#x27;mean_kl_loss&#x27;: 0.0054115206, &#x27;gradients_default_optimizer_global_norm&#x27;: 1.0736601, &#x27;curr_entropy_coeff&#x27;: 0.0, &#x27;module_train_batch_size_mean&#x27;: 128.0, &#x27;default_optimizer_learning_rate&#x27;: 5e-05, &#x27;weights_seq_no&#x27;: 24.0, &#x27;num_module_steps_trained&#x27;: 120320, &#x27;policy_loss&#x27;: 0.20610976, &#x27;total_loss&#x27;: 10.143495, &#x27;num_module_steps_trained_lifetime&#x27;: 2899712, &#x27;num_trainable_parameters&#x27;: 134915, &#x27;vf_loss_unclipped&#x27;: 3571.3147, &#x27;num_module_steps_trained_lifetime_throughput&#x27;: 21623.290756379334}}</td><td style=\"text-align: right;\">                           96000</td><td style=\"text-align: right;\">                                      1</td><td>{&#x27;cpu_util_percent&#x27;: 8.323529411764707, &#x27;ram_util_percent&#x27;: 91.95294117647059}</td><td>{&#x27;training_iteration&#x27;: 7.43806960063918, &#x27;restore_env_runners&#x27;: 1.8846380815511224e-05, &#x27;training_step&#x27;: 7.4377499331996, &#x27;env_runner_sampling_timer&#x27;: 1.6816571567287284, &#x27;learner_update_timer&#x27;: 5.750864063924412, &#x27;synch_weights&#x27;: 0.003387968349697455, &#x27;synch_env_connectors&#x27;: 0.003384061186724332, &#x27;restore_eval_env_runners&#x27;: 6.705453376660952e-05, &#x27;evaluation_iteration&#x27;: 0.7135060830894197, &#x27;synch_eval_env_connectors&#x27;: 1.884820568719657e-05}</td></tr>\n",
       "</tbody>\n",
       "</table>\n",
       "</div>\n",
       "<style>\n",
       ".trialProgress {\n",
       "  display: flex;\n",
       "  flex-direction: column;\n",
       "  color: var(--jp-ui-font-color1);\n",
       "}\n",
       ".trialProgress h3 {\n",
       "  font-weight: bold;\n",
       "}\n",
       ".trialProgress td {\n",
       "  white-space: nowrap;\n",
       "}\n",
       "</style>\n"
      ],
      "text/plain": [
       "<IPython.core.display.HTML object>"
      ]
     },
     "metadata": {},
     "output_type": "display_data"
    },
    {
     "name": "stderr",
     "output_type": "stream",
     "text": [
      "2025-07-28 16:46:58,789\tWARNING tune.py:219 -- Stop signal received (e.g. via SIGINT/Ctrl+C), ending Ray Tune run. This will try to checkpoint the experiment state one last time. Press CTRL+C (or send SIGINT/SIGKILL/SIGTERM) to skip. \n",
      "2025-07-28 16:46:58,800\tINFO tune.py:1009 -- Wrote the latest version of all result files and experiment state to 'C:/Users/FX643778/ray_results/PPO_2025-07-28_16-42-44' in 0.0107s.\n",
      "2025-07-28 16:47:02,755\tINFO tune.py:1041 -- Total run time: 257.90 seconds (253.92 seconds for the tuning loop).\n",
      "2025-07-28 16:47:02,756\tWARNING tune.py:1056 -- Experiment has been interrupted, but the most recent state was saved.\n",
      "Resume experiment with: tune.run(..., resume=True)\n"
     ]
    },
    {
     "data": {
      "text/plain": [
       "<ray.tune.analysis.experiment_analysis.ExperimentAnalysis at 0x2268c132610>"
      ]
     },
     "execution_count": 5,
     "metadata": {},
     "output_type": "execute_result"
    }
   ],
   "source": [
    "tune.run(\"PPO\",\n",
    "         config={\"env\": \"CartPole-v1\",\n",
    "                 \"evaluation_interval\" : 2,\n",
    "                 \"num_gpus\": 0\n",
    "                 }\n",
    "        )"
   ]
  },
  {
   "cell_type": "code",
   "execution_count": 8,
   "metadata": {},
   "outputs": [
    {
     "name": "stderr",
     "output_type": "stream",
     "text": [
      "2025-07-28 16:51:26,838\tINFO tune.py:616 -- [output] This uses the legacy output and progress reporter, as Jupyter notebooks are not supported by the new engine, yet. For more information, please see https://github.com/ray-project/ray/issues/36949\n"
     ]
    },
    {
     "data": {
      "text/html": [
       "<div class=\"tuneStatus\">\n",
       "  <div style=\"display: flex;flex-direction: row\">\n",
       "    <div style=\"display: flex;flex-direction: column;\">\n",
       "      <h3>Tune Status</h3>\n",
       "      <table>\n",
       "<tbody>\n",
       "<tr><td>Current time:</td><td>2025-07-28 17:01:54</td></tr>\n",
       "<tr><td>Running for: </td><td>00:10:27.47        </td></tr>\n",
       "<tr><td>Memory:      </td><td>14.1/15.7 GiB      </td></tr>\n",
       "</tbody>\n",
       "</table>\n",
       "    </div>\n",
       "    <div class=\"vDivider\"></div>\n",
       "    <div class=\"systemInfo\">\n",
       "      <h3>System Info</h3>\n",
       "      Using FIFO scheduling algorithm.<br>Logical resource usage: 3.0/12 CPUs, 0/0 GPUs\n",
       "    </div>\n",
       "    \n",
       "  </div>\n",
       "  <div class=\"hDivider\"></div>\n",
       "  <div class=\"trialStatus\">\n",
       "    <h3>Trial Status</h3>\n",
       "    <table>\n",
       "<thead>\n",
       "<tr><th>Trial name                 </th><th>status  </th><th>loc            </th><th style=\"text-align: right;\">  iter</th><th style=\"text-align: right;\">  total time (s)</th><th style=\"text-align: right;\">  num_training_step_ca\n",
       "lls_per_iteration</th><th style=\"text-align: right;\">       num_env_steps_sample\n",
       "d_lifetime</th></tr>\n",
       "</thead>\n",
       "<tbody>\n",
       "<tr><td>PPO_CartPole-v1_568d1_00000</td><td>RUNNING </td><td>127.0.0.1:34528</td><td style=\"text-align: right;\">    61</td><td style=\"text-align: right;\">         599.435</td><td style=\"text-align: right;\">1</td><td style=\"text-align: right;\">244000</td></tr>\n",
       "</tbody>\n",
       "</table>\n",
       "  </div>\n",
       "</div>\n",
       "<style>\n",
       ".tuneStatus {\n",
       "  color: var(--jp-ui-font-color1);\n",
       "}\n",
       ".tuneStatus .systemInfo {\n",
       "  display: flex;\n",
       "  flex-direction: column;\n",
       "}\n",
       ".tuneStatus td {\n",
       "  white-space: nowrap;\n",
       "}\n",
       ".tuneStatus .trialStatus {\n",
       "  display: flex;\n",
       "  flex-direction: column;\n",
       "}\n",
       ".tuneStatus h3 {\n",
       "  font-weight: bold;\n",
       "}\n",
       ".tuneStatus .hDivider {\n",
       "  border-bottom-width: var(--jp-border-width);\n",
       "  border-bottom-color: var(--jp-border-color0);\n",
       "  border-bottom-style: solid;\n",
       "}\n",
       ".tuneStatus .vDivider {\n",
       "  border-left-width: var(--jp-border-width);\n",
       "  border-left-color: var(--jp-border-color0);\n",
       "  border-left-style: solid;\n",
       "  margin: 0.5em 1em 0.5em 1em;\n",
       "}\n",
       "</style>\n"
      ],
      "text/plain": [
       "<IPython.core.display.HTML object>"
      ]
     },
     "metadata": {},
     "output_type": "display_data"
    },
    {
     "data": {
      "text/html": [
       "<div class=\"trialProgress\">\n",
       "  <h3>Trial Progress</h3>\n",
       "  <table>\n",
       "<thead>\n",
       "<tr><th>Trial name                 </th><th>env_runner_group                               </th><th>env_runners                                                                                                                                                                                                                                                                                                                                                                                                                                                                                                                                                                                                                                                                                                                                                                                                                                                                                                                                                                                                                                                                                                                                                                                                                                                                                                                                                                                                                                                                                                                                                                                                                                                                                                                                                                                                                                                                                                                                                                                      </th><th>evaluation                                                                                                                                                                                                                                                                                                                                                                                                                                                                                                                                                                                                                                                                                                                                                                                                                                                                                                                                                                                                                                                                                                                                                                                                                                                                                                                                                                                                                                                                                                                                                                                                                                                                                                                                                                                                                                                                                                                                                                           </th><th>fault_tolerance                                            </th><th>learners                                                                                                                                                                                                                                                                                                                                                                                                                                                                                                                                                                                                                                                                                                                                                                                                                                                                                                                                                                                                                                                                                                                                                                                                                                                                                                                                                                                                                                                                                                                                                                                                                                                                                                                                                                                                                                                  </th><th style=\"text-align: right;\">  num_env_steps_sampled_lifetime</th><th style=\"text-align: right;\">  num_training_step_calls_per_iteration</th><th>perf                                                                          </th><th>timers                                                                                                                                                                                                                                                                                                                                                                                                                                                           </th></tr>\n",
       "</thead>\n",
       "<tbody>\n",
       "<tr><td>PPO_CartPole-v1_568d1_00000</td><td>{&#x27;actor_manager_num_outstanding_async_reqs&#x27;: 0}</td><td>{&#x27;sample&#x27;: 1.7602819059245502, &#x27;rlmodule_inference_timer&#x27;: 0.00013926434545948144, &#x27;num_env_steps_sampled&#x27;: 4000.0, &#x27;num_episodes_lifetime&#x27;: 913.0, &#x27;module_to_env_connector&#x27;: {&#x27;timers&#x27;: {&#x27;connectors&#x27;: {&#x27;normalize_and_clip_actions&#x27;: 2.9016860354724646e-05, &#x27;remove_single_ts_time_rank_from_batch&#x27;: 1.854246503402188e-06, &#x27;listify_data_for_vector_env&#x27;: 3.434480053658507e-05, &#x27;un_batch_to_individual_items&#x27;: 2.1258038428258038e-05, &#x27;tensor_to_numpy&#x27;: 5.63997269609613e-05, &#x27;get_actions&#x27;: 0.0001928461862332903}}, &#x27;connector_pipeline_timer&#x27;: 0.0004204563298952304}, &#x27;env_to_module_sum_episodes_length_in&#x27;: 261.05123589723064, &#x27;env_to_module_connector&#x27;: {&#x27;timers&#x27;: {&#x27;connectors&#x27;: {&#x27;numpy_to_tensor&#x27;: 3.733353320128701e-05, &#x27;add_states_from_episodes_to_batch&#x27;: 4.793301072171342e-06, &#x27;add_observations_from_episodes_to_batch&#x27;: 7.776752489778164e-06, &#x27;add_time_dim_to_batch_and_zero_pad&#x27;: 7.838692305128423e-06, &#x27;batch_individual_items&#x27;: 1.892928501225503e-05}}, &#x27;connector_pipeline_timer&#x27;: 0.00013949467257124717}, &#x27;episode_return_min&#x27;: 226.0, &#x27;agent_episode_return_mean&#x27;: {&#x27;default_agent&#x27;: 451.64}, &#x27;episode_return_max&#x27;: 500.0, &#x27;env_step_timer&#x27;: 5.411731129247662e-05, &#x27;num_module_steps_sampled_lifetime&#x27;: {&#x27;default_policy&#x27;: 244000.0}, &#x27;num_module_steps_sampled&#x27;: {&#x27;default_policy&#x27;: 4000.0}, &#x27;num_agent_steps_sampled&#x27;: {&#x27;default_agent&#x27;: 4000.0}, &#x27;episode_len_min&#x27;: 226, &#x27;weights_seq_no&#x27;: 60.0, &#x27;module_episode_return_mean&#x27;: {&#x27;default_policy&#x27;: 451.64}, &#x27;env_reset_timer&#x27;: 0.0002751500014710473, &#x27;num_episodes&#x27;: 9.0, &#x27;episode_duration_sec_mean&#x27;: 0.3818329440001253, &#x27;num_env_steps_sampled_lifetime&#x27;: 244000.0, &#x27;env_to_module_sum_episodes_length_out&#x27;: 261.05123589723064, &#x27;episode_len_mean&#x27;: 451.64, &#x27;episode_len_max&#x27;: 500, &#x27;episode_return_mean&#x27;: 451.64, &#x27;num_agent_steps_sampled_lifetime&#x27;: {&#x27;default_agent&#x27;: 244000.0}, &#x27;time_between_sampling&#x27;: 6.971567604894654, &#x27;num_env_steps_sampled_lifetime_throughput&#x27;: 292.84412295371556}</td><td>{&#x27;env_runners&#x27;: {&#x27;num_module_steps_sampled&#x27;: {&#x27;default_policy&#x27;: 4301}, &#x27;env_reset_timer&#x27;: 0.00023061965425288532, &#x27;episode_duration_sec_mean&#x27;: 0.3491861699999208, &#x27;num_env_steps_sampled_lifetime&#x27;: 129543, &#x27;env_to_module_sum_episodes_length_in&#x27;: 404.28023105952184, &#x27;module_episode_return_mean&#x27;: {&#x27;default_policy&#x27;: 468.4}, &#x27;num_agent_steps_sampled&#x27;: {&#x27;default_agent&#x27;: 4301}, &#x27;module_to_env_connector&#x27;: {&#x27;timers&#x27;: {&#x27;connectors&#x27;: {&#x27;listify_data_for_vector_env&#x27;: 3.101132555311434e-05, &#x27;un_batch_to_individual_items&#x27;: 1.8086122949035e-05, &#x27;tensor_to_numpy&#x27;: 4.9868580522016394e-05, &#x27;normalize_and_clip_actions&#x27;: 2.5112416609622142e-05, &#x27;remove_single_ts_time_rank_from_batch&#x27;: 1.7037196066430256e-06, &#x27;get_actions&#x27;: 0.00019147368969126208}}, &#x27;connector_pipeline_timer&#x27;: 0.0003920542088710755}, &#x27;env_to_module_connector&#x27;: {&#x27;connector_pipeline_timer&#x27;: 0.00011910735372679422, &#x27;timers&#x27;: {&#x27;connectors&#x27;: {&#x27;add_states_from_episodes_to_batch&#x27;: 4.3676197435944524e-06, &#x27;add_observations_from_episodes_to_batch&#x27;: 6.843628650876893e-06, &#x27;add_time_dim_to_batch_and_zero_pad&#x27;: 6.520240157272797e-06, &#x27;batch_individual_items&#x27;: 1.636248284967333e-05, &#x27;numpy_to_tensor&#x27;: 3.102150938936123e-05}}}, &#x27;num_agent_steps_sampled_lifetime&#x27;: {&#x27;default_agent&#x27;: 129543}, &#x27;episode_len_max&#x27;: 500, &#x27;rlmodule_inference_timer&#x27;: 0.00010737405008922697, &#x27;env_step_timer&#x27;: 4.5469381579245185e-05, &#x27;episode_len_min&#x27;: 170, &#x27;num_episodes&#x27;: 10, &#x27;env_to_module_sum_episodes_length_out&#x27;: 404.28023105952184, &#x27;episode_len_mean&#x27;: 468.4, &#x27;agent_episode_return_mean&#x27;: {&#x27;default_agent&#x27;: 468.4}, &#x27;episode_return_mean&#x27;: 468.4, &#x27;sample&#x27;: 1.4554363735101759, &#x27;num_env_steps_sampled&#x27;: 4301, &#x27;num_episodes_lifetime&#x27;: 300, &#x27;episode_return_min&#x27;: 170.0, &#x27;episode_return_max&#x27;: 500.0, &#x27;weights_seq_no&#x27;: 60.0, &#x27;num_module_steps_sampled_lifetime&#x27;: {&#x27;default_policy&#x27;: 129543}, &#x27;time_between_sampling&#x27;: 15.741267839162868, &#x27;num_env_steps_sampled_lifetime_throughput&#x27;: nan}}</td><td>{&#x27;num_healthy_workers&#x27;: 2, &#x27;num_remote_worker_restarts&#x27;: 0}</td><td>{&#x27;__all_modules__&#x27;: {&#x27;learner_connector&#x27;: {&#x27;timers&#x27;: {&#x27;connectors&#x27;: {&#x27;batch_individual_items&#x27;: 0.08260055386382167, &#x27;general_advantage_estimation&#x27;: 0.019498252222046188, &#x27;numpy_to_tensor&#x27;: 0.0002535163566933856, &#x27;add_states_from_episodes_to_batch&#x27;: 7.425285566105763e-06, &#x27;add_observations_from_episodes_to_batch&#x27;: 0.0010054080449415726, &#x27;add_one_ts_to_episodes_and_truncate&#x27;: 0.010582705246264822, &#x27;add_time_dim_to_batch_and_zero_pad&#x27;: 2.784213756642845e-05, &#x27;add_columns_from_episodes_to_train_batch&#x27;: 0.07911359415954507}}, &#x27;connector_pipeline_timer&#x27;: 0.1935113124739494}, &#x27;num_module_steps_trained&#x27;: 120448, &#x27;num_env_steps_trained_lifetime&#x27;: 230792608, &#x27;num_env_steps_trained&#x27;: 3774351, &#x27;num_non_trainable_parameters&#x27;: 0, &#x27;num_module_steps_trained_lifetime&#x27;: 7353856, &#x27;learner_connector_sum_episodes_length_out&#x27;: 4106.112911591768, &#x27;num_trainable_parameters&#x27;: 134915, &#x27;learner_connector_sum_episodes_length_in&#x27;: 4000.0, &#x27;num_env_steps_trained_lifetime_throughput&#x27;: 671120.3620956008, &#x27;num_module_steps_trained_throughput&#x27;: 21372.973174639985, &#x27;num_module_steps_trained_lifetime_throughput&#x27;: 21372.561204680642}, &#x27;default_policy&#x27;: {&#x27;module_train_batch_size_mean&#x27;: 128.0, &#x27;entropy&#x27;: 0.44844174, &#x27;vf_loss&#x27;: 9.849506, &#x27;total_loss&#x27;: 9.770237, &#x27;vf_explained_var&#x27;: 0.07183349, &#x27;gradients_default_optimizer_global_norm&#x27;: 1.2971759, &#x27;default_optimizer_learning_rate&#x27;: 5e-05, &#x27;num_module_steps_trained&#x27;: 120448, &#x27;policy_loss&#x27;: -0.079269595, &#x27;diff_num_grad_updates_vs_sampler_policy&#x27;: 1.0, &#x27;mean_kl_loss&#x27;: 0.0038525392, &#x27;weights_seq_no&#x27;: 61.0, &#x27;vf_loss_unclipped&#x27;: 2259.4045, &#x27;num_module_steps_trained_lifetime&#x27;: 7353856, &#x27;curr_entropy_coeff&#x27;: 0.0, &#x27;curr_kl_coeff&#x27;: 8.940697071579962e-09, &#x27;num_trainable_parameters&#x27;: 134915, &#x27;num_module_steps_trained_lifetime_throughput&#x27;: 21374.044913333146}}</td><td style=\"text-align: right;\">                          244000</td><td style=\"text-align: right;\">                                      1</td><td>{&#x27;cpu_util_percent&#x27;: 9.927272727272728, &#x27;ram_util_percent&#x27;: 89.79090909090908}</td><td>{&#x27;training_iteration&#x27;: 7.896197710764421, &#x27;restore_env_runners&#x27;: 1.757734524389007e-05, &#x27;training_step&#x27;: 7.895782383999003, &#x27;env_runner_sampling_timer&#x27;: 1.8030079647905117, &#x27;learner_update_timer&#x27;: 6.087747878742357, &#x27;synch_weights&#x27;: 0.003245536258427722, &#x27;synch_env_connectors&#x27;: 0.0036653450614159014, &#x27;restore_eval_env_runners&#x27;: 1.4549584417225377e-05, &#x27;evaluation_iteration&#x27;: 1.466567330398807, &#x27;synch_eval_env_connectors&#x27;: 1.7386059034325133e-05}</td></tr>\n",
       "</tbody>\n",
       "</table>\n",
       "</div>\n",
       "<style>\n",
       ".trialProgress {\n",
       "  display: flex;\n",
       "  flex-direction: column;\n",
       "  color: var(--jp-ui-font-color1);\n",
       "}\n",
       ".trialProgress h3 {\n",
       "  font-weight: bold;\n",
       "}\n",
       ".trialProgress td {\n",
       "  white-space: nowrap;\n",
       "}\n",
       "</style>\n"
      ],
      "text/plain": [
       "<IPython.core.display.HTML object>"
      ]
     },
     "metadata": {},
     "output_type": "display_data"
    }
   ],
   "source": [
    "import os\n",
    "\n",
    "storage_dir = os.path.abspath(\"./cartpole_v1\")\n",
    "\n",
    "tune.run(\n",
    "    \"PPO\",\n",
    "    config={\n",
    "        \"env\": \"CartPole-v1\",\n",
    "        \"evaluation_interval\": 2,\n",
    "        \"evaluation_config\": {\"num_episodes\": 10},\n",
    "        \"num_gpus\": 0,\n",
    "    },\n",
    "    storage_path=storage_dir,\n",
    ")\n"
   ]
  }
 ],
 "metadata": {
  "kernelspec": {
   "display_name": "envtest",
   "language": "python",
   "name": "python3"
  },
  "language_info": {
   "codemirror_mode": {
    "name": "ipython",
    "version": 3
   },
   "file_extension": ".py",
   "mimetype": "text/x-python",
   "name": "python",
   "nbconvert_exporter": "python",
   "pygments_lexer": "ipython3",
   "version": "3.11.11"
  }
 },
 "nbformat": 4,
 "nbformat_minor": 2
}
